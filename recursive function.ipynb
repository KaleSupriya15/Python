{
 "cells": [
  {
   "cell_type": "raw",
   "id": "b1384291",
   "metadata": {},
   "source": [
    "The term Recursion can be defined as the process of defining something in terms of itself. In simple words, it is a process in which a function calls itself directly or indirectly. \n",
    "\n"
   ]
  },
  {
   "cell_type": "raw",
   "id": "e1a3c5f0",
   "metadata": {},
   "source": [
    "Advantages of using recursion\n",
    "\n",
    "A complicated function can be split down into smaller sub-problems utilizing recursion.\n",
    "Sequence creation is simpler through recursion than utilizing any nested iteration.\n",
    "Recursive functions render the code look simple and effective.\n",
    "\n",
    "Disadvantages of using recursion\n",
    "A lot of memory and time is taken through recursive calls which makes it expensive for use.\n",
    "Recursive functions are challenging to debug.\n",
    "The reasoning behind recursion can sometimes be tough to think through."
   ]
  },
  {
   "cell_type": "code",
   "execution_count": 4,
   "id": "7dcc12f1",
   "metadata": {},
   "outputs": [
    {
     "name": "stdout",
     "output_type": "stream",
     "text": [
      "Fibonacci series:\n",
      "0\n",
      "1\n",
      "1\n",
      "2\n",
      "3\n",
      "5\n",
      "8\n",
      "13\n",
      "21\n",
      "34\n"
     ]
    }
   ],
   "source": [
    "# Program to print the fibonacci series upto n_terms\n",
    " \n",
    "# Recursive function\n",
    "def recursive_fibonacci(n):\n",
    "    if n <= 1:\n",
    "        return n\n",
    "    else:\n",
    "        return(recursive_fibonacci(n-1) + recursive_fibonacci(n-2))\n",
    "n_terms = 10\n",
    "    # check if the number of terms is valid\n",
    "if n_terms <= 0:\n",
    "    print(\"Invalid input ! Please input a positive value\")\n",
    "else:\n",
    "    print(\"Fibonacci series:\")\n",
    "for i in range(n_terms):\n",
    "    print(recursive_fibonacci(i))"
   ]
  },
  {
   "cell_type": "code",
   "execution_count": 5,
   "id": "ae2b3622",
   "metadata": {},
   "outputs": [],
   "source": [
    "# Recursive function\n",
    "def recursive_factorial(n):\n",
    "    if n == 1:\n",
    "        return n\n",
    "    else:\n",
    "        return n * recursive_factorial(n-1)"
   ]
  },
  {
   "cell_type": "code",
   "execution_count": 6,
   "id": "25c87dac",
   "metadata": {},
   "outputs": [
    {
     "data": {
      "text/plain": [
       "120"
      ]
     },
     "execution_count": 6,
     "metadata": {},
     "output_type": "execute_result"
    }
   ],
   "source": [
    "recursive_factorial(5)"
   ]
  },
  {
   "cell_type": "code",
   "execution_count": null,
   "id": "86ca8c12",
   "metadata": {},
   "outputs": [],
   "source": []
  }
 ],
 "metadata": {
  "kernelspec": {
   "display_name": "Python 3 (ipykernel)",
   "language": "python",
   "name": "python3"
  },
  "language_info": {
   "codemirror_mode": {
    "name": "ipython",
    "version": 3
   },
   "file_extension": ".py",
   "mimetype": "text/x-python",
   "name": "python",
   "nbconvert_exporter": "python",
   "pygments_lexer": "ipython3",
   "version": "3.9.13"
  }
 },
 "nbformat": 4,
 "nbformat_minor": 5
}
