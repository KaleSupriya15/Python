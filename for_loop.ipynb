{
  "nbformat": 4,
  "nbformat_minor": 0,
  "metadata": {
    "colab": {
      "provenance": [],
      "collapsed_sections": [],
      "mount_file_id": "1Pxr5DyrN8auR_DYhV5P2tS-Ci_A9jbdo",
      "authorship_tag": "ABX9TyPKo5SHqPv5f+ryqaAoXplu"
    },
    "kernelspec": {
      "name": "python3",
      "display_name": "Python 3"
    },
    "language_info": {
      "name": "python"
    }
  },
  "cells": [
    {
      "cell_type": "markdown",
      "source": [
        "## list --> 1st 4 elements of each item  --> Add DOB and 1st 4 elememts for creating password"
      ],
      "metadata": {
        "id": "08kYUympUF55"
      }
    },
    {
      "cell_type": "code",
      "execution_count": null,
      "metadata": {
        "colab": {
          "base_uri": "https://localhost:8080/"
        },
        "id": "WVvyXxIfT3na",
        "outputId": "bebf1200-a0d0-46d7-8788-74777f5de507"
      },
      "outputs": [
        {
          "output_type": "stream",
          "name": "stdout",
          "text": [
            "enter n: 2\n",
            "Enter name: siya\n",
            "Enter name: vaibhav\n",
            "Enter DOB: 27052000\n",
            "Enter DOB: 03082002\n",
            "[]\n",
            "vaib03082002\n"
          ]
        }
      ],
      "source": []
    },
    {
      "cell_type": "code",
      "source": [
        "n=int(input())\n",
        "print('Multiplication table of ',n,'is: ')\n",
        "for i in range(1,11):\n",
        "  print(n*i,end=' ')\n",
        "  print('\\n')\n"
      ],
      "metadata": {
        "colab": {
          "base_uri": "https://localhost:8080/"
        },
        "id": "xV3rUjWGWBQi",
        "outputId": "ff2fc829-f927-4bfd-d099-91db358e1580"
      },
      "execution_count": null,
      "outputs": [
        {
          "output_type": "stream",
          "name": "stdout",
          "text": [
            "5\n",
            "Multiplication table of  5 is: \n",
            "5 \n",
            "\n",
            "10 \n",
            "\n",
            "15 \n",
            "\n",
            "20 \n",
            "\n",
            "25 \n",
            "\n",
            "30 \n",
            "\n",
            "35 \n",
            "\n",
            "40 \n",
            "\n",
            "45 \n",
            "\n",
            "50 \n",
            "\n"
          ]
        }
      ]
    },
    {
      "cell_type": "code",
      "source": [
        "for i in range(1,6):\n",
        "  n=0\n",
        "  print(\"Multiplication table of\",i)\n",
        "  while n<10:\n",
        "    n=n+1\n",
        "    print(n*i,end=' ')\n",
        "  print('\\n')"
      ],
      "metadata": {
        "colab": {
          "base_uri": "https://localhost:8080/"
        },
        "id": "iCDvhZosb797",
        "outputId": "d038e9ed-b9f3-4740-ad52-21de4744daa7"
      },
      "execution_count": null,
      "outputs": [
        {
          "output_type": "stream",
          "name": "stdout",
          "text": [
            "Multiplication table of 1\n",
            "1 2 3 4 5 6 7 8 9 10 \n",
            "\n",
            "Multiplication table of 2\n",
            "2 4 6 8 10 12 14 16 18 20 \n",
            "\n",
            "Multiplication table of 3\n",
            "3 6 9 12 15 18 21 24 27 30 \n",
            "\n",
            "Multiplication table of 4\n",
            "4 8 12 16 20 24 28 32 36 40 \n",
            "\n",
            "Multiplication table of 5\n",
            "5 10 15 20 25 30 35 40 45 50 \n",
            "\n"
          ]
        }
      ]
    },
    {
      "cell_type": "code",
      "source": [
        "city=['pune','nashik','satara','kolhapur','shrirampur']\n",
        "for x in city:\n",
        "  l=len(x)\n",
        "  place=[]\n",
        "  print(\"city name: \",x)\n",
        "  for y in range(l):\n",
        "    pl=input(\"Enter place: \")\n",
        "    place.append(pl)\n",
        "  print(place)"
      ],
      "metadata": {
        "colab": {
          "base_uri": "https://localhost:8080/"
        },
        "id": "fO8GtFQ7c9kC",
        "outputId": "c6199154-0b02-4d73-9717-79206fe1f51d"
      },
      "execution_count": null,
      "outputs": [
        {
          "output_type": "stream",
          "name": "stdout",
          "text": [
            "city name:  pune\n",
            "Enter place: ooti\n",
            "Enter place: manali\n",
            "Enter place: nashik\n",
            "Enter place: goa\n",
            "['ooti', 'manali', 'nashik', 'goa']\n",
            "city name:  nashik\n",
            "Enter place: shirdi\n",
            "Enter place: mumbai\n",
            "Enter place: banglore\n",
            "Enter place: delhi\n",
            "Enter place: noida\n",
            "Enter place: chennai\n",
            "['shirdi', 'mumbai', 'banglore', 'delhi', 'noida', 'chennai']\n",
            "city name:  satara\n",
            "Enter place: haidrabad\n",
            "Enter place: pune\n",
            "Enter place: shrirampur\n",
            "Enter place: sangamner'\n",
            "Enter place: rahuri\n",
            "Enter place: mahabaleshwar\n",
            "['haidrabad', 'pune', 'shrirampur', \"sangamner'\", 'rahuri', 'mahabaleshwar']\n",
            "city name:  kolhapur\n",
            "Enter place: gujrat\n",
            "Enter place: rajsthan\n",
            "Enter place: karnatak\n",
            "Enter place: panjab\n",
            "Enter place: maharashtra\n",
            "Enter place: chattisgadh\n",
            "Enter place: ahmedabad\n",
            "Enter place: hariyana\n",
            "['gujrat', 'rajsthan', 'karnatak', 'panjab', 'maharashtra', 'chattisgadh', 'ahmedabad', 'hariyana']\n",
            "city name:  shrirampur\n",
            "Enter place: goa\n",
            "Enter place: nashik\n",
            "Enter place: punr\n",
            "Enter place: kolhapur\n",
            "Enter place: satara\n",
            "Enter place: shirdi\n",
            "Enter place: banglore\n",
            "Enter place: mumbai\n",
            "Enter place: delhi\n",
            "Enter place: ahmednagar\n",
            "['goa', 'nashik', 'punr', 'kolhapur', 'satara', 'shirdi', 'banglore', 'mumbai', 'delhi', 'ahmednagar']\n"
          ]
        }
      ]
    },
    {
      "cell_type": "code",
      "source": [
        "city=[]\n",
        "for i in range(2):\n",
        "  ci=input(\"Enter city: \")\n",
        "  city.append(ci)\n",
        "for x in city:\n",
        "  l=len(x)\n",
        "  place=[]\n",
        "  print(\"city name: \",x)\n",
        "  for y in range(l):\n",
        "    pl=input(\"Enter place: \")\n",
        "    place.append(pl)\n",
        "print(place)"
      ],
      "metadata": {
        "colab": {
          "base_uri": "https://localhost:8080/"
        },
        "id": "_o2ALvq8fR-K",
        "outputId": "f9f22e26-1a28-4b6d-b5cc-61549480c389"
      },
      "execution_count": null,
      "outputs": [
        {
          "output_type": "stream",
          "name": "stdout",
          "text": [
            "Enter city: pune\n",
            "Enter city: goa\n",
            "city name:  pune\n",
            "Enter place: nashik\n",
            "Enter place: manali\n",
            "Enter place: ooti\n",
            "Enter place: banglore\n",
            "city name:  goa\n",
            "Enter place: delhi\n",
            "Enter place: mumbai\n",
            "Enter place: satara\n",
            "['delhi', 'mumbai', 'satara']\n"
          ]
        }
      ]
    },
    {
      "cell_type": "code",
      "source": [
        "city=['pune','nashik','satara','kolhapur','shrirampur','Noida']\n",
        "for i in city:\n",
        "  l=len(i)\n",
        "  if l%2==0:\n",
        "    print('length of',i,':',l,'even',)\n",
        "  else:\n",
        "    print('length of',i,':',l,'odd')"
      ],
      "metadata": {
        "colab": {
          "base_uri": "https://localhost:8080/"
        },
        "id": "CfN_v0NYhEff",
        "outputId": "d5531084-5169-4d25-8461-fd9bdde4454b"
      },
      "execution_count": null,
      "outputs": [
        {
          "output_type": "stream",
          "name": "stdout",
          "text": [
            "length of pune : 4 even\n",
            "length of nashik : 6 even\n",
            "length of satara : 6 even\n",
            "length of kolhapur : 8 even\n",
            "length of shrirampur : 10 even\n",
            "length of Noida : 5 odd\n"
          ]
        }
      ]
    },
    {
      "cell_type": "code",
      "source": [
        "city=[]\n",
        "for i in city:\n",
        "  l=len(i)\n",
        "  if l%2==0:\n",
        "    print('length of',i,':',l,'even',)\n",
        "  else:\n",
        "    print('length of',i,':',l,'odd')"
      ],
      "metadata": {
        "id": "3ghwnRDEnQ_X"
      },
      "execution_count": null,
      "outputs": []
    }
  ]
}