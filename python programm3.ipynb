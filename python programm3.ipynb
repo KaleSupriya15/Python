{
 "cells": [
  {
   "cell_type": "markdown",
   "id": "a8492808",
   "metadata": {},
   "source": [
    "## Write a Python Program to Display the multiplication Table"
   ]
  },
  {
   "cell_type": "code",
   "execution_count": 4,
   "id": "d87e53f1",
   "metadata": {},
   "outputs": [
    {
     "name": "stdout",
     "output_type": "stream",
     "text": [
      "Enter the number: 3\n",
      "multiplication table of 3 is:\n",
      "3x1=3\n",
      "3x2=6\n",
      "3x3=9\n",
      "3x4=12\n",
      "3x5=15\n",
      "3x6=18\n",
      "3x7=21\n",
      "3x8=24\n",
      "3x9=27\n",
      "3x10=30\n"
     ]
    }
   ],
   "source": [
    "n=int(input(\"Enter the number: \"))\n",
    "print(f\"multiplication table of {n} is:\")\n",
    "for i in range(1,11):\n",
    "    print(f\"{n}x{i}={n*i}\")"
   ]
  },
  {
   "cell_type": "markdown",
   "id": "218647d1",
   "metadata": {},
   "source": [
    "## Write a Python Program to Find the Sum of Natural Numbers.\n"
   ]
  },
  {
   "cell_type": "code",
   "execution_count": 8,
   "id": "b18571f2",
   "metadata": {},
   "outputs": [
    {
     "name": "stdout",
     "output_type": "stream",
     "text": [
      "enter the n: 10\n",
      "The sum of natural numbers up to 10 is: 55\n"
     ]
    }
   ],
   "source": [
    "n=int(input(\"enter the n: \"))\n",
    "sum=0\n",
    "for x in range(1,n+1):\n",
    "    sum=sum+x\n",
    "print(f\"The sum of natural numbers up to 10 is: {sum}\")"
   ]
  },
  {
   "cell_type": "markdown",
   "id": "fa130664",
   "metadata": {},
   "source": [
    "## Write a Python Program to Convert Decimal to Binary, Octal and Hexadecimal.\n",
    "How can we manually convert a decimal number to binary, octal and hexadecimal?\n",
    "Converting a decimal number to binary, octal, and hexadecimal involves dividing the\n",
    "decimal number by the base repeatedly and noting the remainders at each step. Here's a\n",
    "simple example:"
   ]
  },
  {
   "cell_type": "raw",
   "id": "7d1acb56",
   "metadata": {},
   "source": [
    "Let's convert the decimal number 27 to binary, octal, and hexadecimal.\n",
    "\n",
    "1. Binary:\n",
    "\n",
    "Divide 27 by 2. Quotient is 13, remainder is 1. Note the remainder.\n",
    "Divide 13 by 2. Quotient is 6, remainder is 1. Note the remainder.\n",
    "Divide 6 by 2. Quotient is 3, remainder is 0. Note the remainder.\n",
    "Divide 3 by 2. Quotient is 1, remainder is 1. Note the remainder.\n",
    "Divide 1 by 2. Quotient is 0, remainder is 1. Note the remainder.\n",
    "\n",
    "Reading the remainders from bottom to top, the binary representation of 27 is 11011.\n",
    "\n",
    "2. Octal:\n",
    "\n",
    "Divide 27 by 8. Quotient is 3, remainder is 3. Note the remainder.\n",
    "Divide 3 by 8. Quotient is 0, remainder is 3. Note the remainder.\n",
    "Reading the remainders from bottom to top, the octal representation of 27 is 33.\n",
    "\n",
    "3. Hexadecimal:\n",
    "\n",
    "Divide 27 by 16. Quotient is 1, remainder is 11 (B in hexadecimal). Note the remainder.\n",
    "Reading the remainders, the hexadecimal representation of 27 is 1B.\n",
    "\n",
    "So, in summary:\n",
    "Binary: 27 in decimal is 11011 in binary.\n",
    "Octal: 27 in decimal is 33 in octal.\n",
    "Hexadecimal: 27 in decimal is 1B in hexadecimal"
   ]
  },
  {
   "cell_type": "code",
   "execution_count": 10,
   "id": "9758e757",
   "metadata": {},
   "outputs": [
    {
     "name": "stdout",
     "output_type": "stream",
     "text": [
      "Enter the n: 33\n",
      "The decimal value of 33 is:\n",
      "0b100001  in binary\n",
      "0o41  in octal\n",
      "0x21  in hexadecimal\n"
     ]
    }
   ],
   "source": [
    "n=int(input(\"Enter the n: \"))\n",
    "print(\"The decimal value of\",n, \"is:\")\n",
    "print(bin(n),\" in binary\")\n",
    "print(oct(n),\" in octal\")\n",
    "print(hex(n),\" in hexadecimal\")"
   ]
  },
  {
   "cell_type": "markdown",
   "id": "e61c8dac",
   "metadata": {},
   "source": [
    "## Write a Python Program To Find ASCII value of a character.\n",
    "#### ASCII value:\n",
    "ASCII, or American Standard Code for Information Interchange, is a character encoding\n",
    "standard that uses numeric values to represent characters. Each ASCII character is\n",
    "assigned a unique 7-bit or 8-bit binary number, allowing computers to exchange information\n",
    "and display text in a consistent way. The ASCII values range from 0 to 127 (for 7-bit ASCII)\n",
    "or 0 to 255 (for 8-bit ASCII), with each value corresponding to a specific character, such as\n",
    "letters, digits, punctuation marks, and control characters.\n"
   ]
  },
  {
   "cell_type": "code",
   "execution_count": 19,
   "id": "a84ac2ce",
   "metadata": {},
   "outputs": [
    {
     "name": "stdout",
     "output_type": "stream",
     "text": [
      "enter the character : P\n",
      "ASCII for the  P is: 80\n"
     ]
    }
   ],
   "source": [
    "char=input(\"enter the character : \")\n",
    "print(\"ASCII for the \",char,\"is:\", ord(char))"
   ]
  },
  {
   "cell_type": "code",
   "execution_count": null,
   "id": "4508d65b",
   "metadata": {},
   "outputs": [],
   "source": []
  }
 ],
 "metadata": {
  "kernelspec": {
   "display_name": "Python 3 (ipykernel)",
   "language": "python",
   "name": "python3"
  },
  "language_info": {
   "codemirror_mode": {
    "name": "ipython",
    "version": 3
   },
   "file_extension": ".py",
   "mimetype": "text/x-python",
   "name": "python",
   "nbconvert_exporter": "python",
   "pygments_lexer": "ipython3",
   "version": "3.9.13"
  }
 },
 "nbformat": 4,
 "nbformat_minor": 5
}
