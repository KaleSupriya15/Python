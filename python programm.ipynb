{
 "cells": [
  {
   "cell_type": "code",
   "execution_count": 1,
   "id": "811adf2b",
   "metadata": {},
   "outputs": [],
   "source": [
    "# Python program to solve quadratic equation"
   ]
  },
  {
   "cell_type": "code",
   "execution_count": 2,
   "id": "af98fac8",
   "metadata": {},
   "outputs": [],
   "source": [
    "import math"
   ]
  },
  {
   "cell_type": "code",
   "execution_count": 3,
   "id": "b3da8455",
   "metadata": {},
   "outputs": [
    {
     "name": "stdout",
     "output_type": "stream",
     "text": [
      "Enter the coefficient a : 2\n",
      "Enter the coefficient b : 3\n",
      "Enter the coefficiet c : 1\n",
      "root 1 : -0.75+0.6614378277661477i\n",
      "root 2 : -0.75-0.6614378277661477i\n"
     ]
    }
   ],
   "source": [
    "a=int(input(\"Enter the coefficient a : \"))\n",
    "b=int(input(\"Enter the coefficient b : \"))\n",
    "c=int(input(\"Enter the coefficiet c : \"))\n",
    "det=b^2-4*a*c\n",
    "if det >0:\n",
    "    root1=(-b+math.sqrt(det))/(2*a)\n",
    "    root1=(-b-math.sqrt(det))/(2*a)\n",
    "    print(f\"root 1 :{root1}\")\n",
    "    print(f\"root 2 : {root2}\")\n",
    "elif det==0:\n",
    "    root= -b/(2*a)\n",
    "    print(f\"root : {root}\")\n",
    "else:\n",
    "    real=-b/(2*a)\n",
    "    imaginary=math.sqrt(abs(det))/(2*a)\n",
    "    print(f\"root 1 : {real}+{imaginary}i\")\n",
    "    print(f\"root 2 : {real}-{imaginary}i\")\n",
    "\n",
    "\n",
    "    "
   ]
  },
  {
   "cell_type": "markdown",
   "id": "5d2b56d8",
   "metadata": {},
   "source": [
    "## Write a Python program to swap two variables without temp variable"
   ]
  },
  {
   "cell_type": "code",
   "execution_count": 4,
   "id": "c22a0dac",
   "metadata": {},
   "outputs": [
    {
     "name": "stdout",
     "output_type": "stream",
     "text": [
      "enter a : 3\n",
      "enetr b : 4\n",
      "after swap:\n",
      "a:  4\n",
      "b:  3\n"
     ]
    }
   ],
   "source": [
    "a=int(input(\"enter a : \"))\n",
    "b= int(input(\"enetr b : \"))\n",
    "a,b=b,a\n",
    "print(\"after swap:\")\n",
    "print(\"a: \",a)\n",
    "print(\"b: \", b)"
   ]
  },
  {
   "cell_type": "markdown",
   "id": "7092fd7d",
   "metadata": {},
   "source": [
    "## Write a Python Program to Check if a Number is Positive, Negative or Zero"
   ]
  },
  {
   "cell_type": "code",
   "execution_count": 6,
   "id": "174358b2",
   "metadata": {},
   "outputs": [
    {
     "name": "stdout",
     "output_type": "stream",
     "text": [
      "Enter number : -2\n",
      "-2.0 is negative\n"
     ]
    }
   ],
   "source": [
    "num=float(input(\"Enter number : \"))\n",
    "if num>0:\n",
    "    print(f\"{num} is positive\")\n",
    "elif num==0:\n",
    "    print(f\"{num} is zero\")\n",
    "else:\n",
    "    print(f\"{num} is negative\")\n",
    "          "
   ]
  },
  {
   "cell_type": "markdown",
   "id": "60e2ce50",
   "metadata": {},
   "source": [
    "## Write a Python Program to Check if a Number is Odd or Even.\n"
   ]
  },
  {
   "cell_type": "code",
   "execution_count": 13,
   "id": "ea148f09",
   "metadata": {},
   "outputs": [
    {
     "name": "stdout",
     "output_type": "stream",
     "text": [
      "Enter number : 25\n",
      "25 is odd\n"
     ]
    }
   ],
   "source": [
    "num=int(input(\"Enter number : \"))\n",
    "if num%2==0:\n",
    "    print(f\"{num} is even\")\n",
    "else:\n",
    "    print(f\"{num} is odd\")"
   ]
  },
  {
   "cell_type": "markdown",
   "id": "caab4737",
   "metadata": {},
   "source": [
    "## write a Python Program to Check Leap Year."
   ]
  },
  {
   "cell_type": "code",
   "execution_count": 18,
   "id": "09e7ab4a",
   "metadata": {},
   "outputs": [
    {
     "name": "stdout",
     "output_type": "stream",
     "text": [
      "enter year : 2022\n",
      "2022 is not leap year\n"
     ]
    }
   ],
   "source": [
    "year=int(input(\"enter year : \"))\n",
    "# divided by 100 means century year (ending with 00)\n",
    "# century year divided by 400 is leap year\n",
    "if year%400==0 and year%100==0:\n",
    "    print(f\"{year} is Leap year\")\n",
    "# not divided by 100 means not a century year\n",
    "# year divided by 4 is a leap year\n",
    "elif year%4==0 and year%100!=0:\n",
    "    print(f\"{year} is leap year\")\n",
    "# if not divided by both 400 (century year) and 4 (not century year)\n",
    "# year is not leap year\n",
    "\n",
    "else:\n",
    "    print(f\"{year} is not leap year\")"
   ]
  },
  {
   "cell_type": "markdown",
   "id": "01e8ef17",
   "metadata": {},
   "source": [
    "## Write a Python Program to Check Prime Number.\n",
    "Prime Numbers:\n",
    "A prime number is a whole number that cannot be evenly divided by any other number\n",
    "except for 1 and itself. For example, 2, 3, 5, 7, 11, and 13 are prime numbers because they\n",
    "cannot be divided by any other positive integer except for 1 and their own value."
   ]
  },
  {
   "cell_type": "code",
   "execution_count": 24,
   "id": "aca94d82",
   "metadata": {},
   "outputs": [
    {
     "name": "stdout",
     "output_type": "stream",
     "text": [
      "Enter number : 6\n",
      "6 is not prime\n"
     ]
    }
   ],
   "source": [
    "num=int(input(\"Enter number : \"))\n",
    "if num==1:\n",
    "    print(f\"{num} is not prime\")\n",
    "elif num>1:\n",
    "    for i in range(2,num):\n",
    "        if num%i==0:\n",
    "            print(f\"{num} is not prime\")\n",
    "            break\n",
    "    else:\n",
    "        print(f\"{num} is prime\")\n",
    "else:\n",
    "    print(f\"{num} is prime number\")"
   ]
  },
  {
   "cell_type": "code",
   "execution_count": 5,
   "id": "ef35ca85",
   "metadata": {},
   "outputs": [],
   "source": [
    "def is_prime(num):\n",
    "    if num <= 1:\n",
    "        return False\n",
    "    for i in range(2, int(num**0 + 1):\n",
    "        if num % i == 0:\n",
    "            return False\n",
    "    return True"
   ]
  },
  {
   "cell_type": "code",
   "execution_count": 6,
   "id": "17a870c8",
   "metadata": {},
   "outputs": [
    {
     "name": "stdout",
     "output_type": "stream",
     "text": [
      "11 is not prime.\n"
     ]
    }
   ],
   "source": [
    "# Example usage\n",
    "number = 11\n",
    "if is_prime(number):\n",
    "    print(number, \"is prime.\")\n",
    "else:\n",
    "    print(number, \"is not prime.\")"
   ]
  },
  {
   "cell_type": "markdown",
   "id": "c47d7a12",
   "metadata": {},
   "source": [
    "## Write a Python Program to Print all Prime Numbers in an Interval of 1-10"
   ]
  },
  {
   "cell_type": "code",
   "execution_count": 30,
   "id": "7e5f40dd",
   "metadata": {},
   "outputs": [
    {
     "name": "stdout",
     "output_type": "stream",
     "text": [
      "2 is prime\n",
      "3 is prime\n",
      "4 is not prime\n",
      "5 is prime\n",
      "6 is not prime\n",
      "7 is prime\n",
      "8 is not prime\n",
      "9 is not prime\n",
      "10 is not prime\n"
     ]
    }
   ],
   "source": [
    "for i in range (1,11):\n",
    "    if i >1:\n",
    "        for j in range(2,i):\n",
    "            if i%j==0:\n",
    "                print(f\"{i} is not prime\")\n",
    "                break\n",
    "        else:\n",
    "                print(f\"{i} is prime\")"
   ]
  },
  {
   "cell_type": "markdown",
   "id": "1e9dd194",
   "metadata": {},
   "source": [
    "## Write a Python Program to Find the Factorial of a Number"
   ]
  },
  {
   "cell_type": "code",
   "execution_count": 34,
   "id": "c535cb9a",
   "metadata": {},
   "outputs": [
    {
     "name": "stdout",
     "output_type": "stream",
     "text": [
      "enter the number : 5\n",
      "the factorial of 5 is 120\n"
     ]
    }
   ],
   "source": [
    "num=int(input(\"enter the number : \"))\n",
    "factorial=1\n",
    "if num<0:\n",
    "    print(f\"factorial of {num} is not exist\")\n",
    "elif num==0:\n",
    "    print(f\"factorial of {num} is zero\")\n",
    "else:\n",
    "    for i in range(1,num+1):\n",
    "        factorial= factorial*i\n",
    "    print(f\"the factorial of {num} is {factorial}\")"
   ]
  },
  {
   "cell_type": "markdown",
   "id": "f8096bd8",
   "metadata": {},
   "source": [
    "## Write a Python Program to Display the multiplication Table."
   ]
  },
  {
   "cell_type": "code",
   "execution_count": 36,
   "id": "b19707c2",
   "metadata": {},
   "outputs": [
    {
     "name": "stdout",
     "output_type": "stream",
     "text": [
      "enter the number6\n",
      "6x1 = 6\n",
      "6x2 = 12\n",
      "6x3 = 18\n",
      "6x4 = 24\n",
      "6x5 = 30\n",
      "6x6 = 36\n",
      "6x7 = 42\n",
      "6x8 = 48\n",
      "6x9 = 54\n",
      "6x10 = 60\n"
     ]
    }
   ],
   "source": [
    "n=int(input(\"enter the number\"))\n",
    "for i in range(1,11):\n",
    "    print(f\"{n}x{i} = {n*i}\")"
   ]
  },
  {
   "cell_type": "markdown",
   "id": "36fc5114",
   "metadata": {},
   "source": [
    "## Write a Python Program to Print the Fibonacci sequence.\n",
    "Fibonacci sequence:\n",
    "The Fibonacci sequence is a series of numbers where each number is the sum of the two\n",
    "preceding ones, typically starting with 0 and 1. So, the sequence begins with 0 and 1, and\n",
    "the next number is obtained by adding the previous two numbers. This pattern continues\n",
    "indefinitely, generating a sequence that looks like this:\n",
    "0, 1, 1, 2, 3, 5, 8, 13, 21, 34, 55, 89, 144, and so on.\n",
    "Mathematically, the Fibonacci sequence can be defined using the following recurrence\n",
    "relation:\n",
    "𝐹(0) = 0 𝐹(1) = 1 𝐹(𝑛) = 𝐹(𝑛 − 1) + 𝐹(𝑛 − 2)𝑓𝑜𝑟𝑛 > 1\n"
   ]
  },
  {
   "cell_type": "code",
   "execution_count": null,
   "id": "4a9ba1bc",
   "metadata": {},
   "outputs": [],
   "source": []
  }
 ],
 "metadata": {
  "kernelspec": {
   "display_name": "Python 3 (ipykernel)",
   "language": "python",
   "name": "python3"
  },
  "language_info": {
   "codemirror_mode": {
    "name": "ipython",
    "version": 3
   },
   "file_extension": ".py",
   "mimetype": "text/x-python",
   "name": "python",
   "nbconvert_exporter": "python",
   "pygments_lexer": "ipython3",
   "version": "3.9.13"
  }
 },
 "nbformat": 4,
 "nbformat_minor": 5
}
