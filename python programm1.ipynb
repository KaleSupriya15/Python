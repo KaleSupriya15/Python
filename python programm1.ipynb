{
 "cells": [
  {
   "cell_type": "markdown",
   "id": "496fdd11",
   "metadata": {},
   "source": [
    "## Area of triangle"
   ]
  },
  {
   "cell_type": "code",
   "execution_count": 2,
   "id": "17b87ffb",
   "metadata": {},
   "outputs": [
    {
     "name": "stdout",
     "output_type": "stream",
     "text": [
      "Enter the length of base of triangle: 10\n",
      "Enter the length of height of triangle: 15\n",
      "Area of triangle:  75.0\n"
     ]
    }
   ],
   "source": [
    "\n",
    "base=float(input(\"Enter the length of base of triangle: \"))\n",
    "height=float(input(\"Enter the length of height of triangle: \"))\n",
    "area=1/2*base*height\n",
    "print(\"Area of triangle: \", area)"
   ]
  },
  {
   "cell_type": "markdown",
   "id": "cd3a1b15",
   "metadata": {},
   "source": [
    "## swap of two variables"
   ]
  },
  {
   "cell_type": "code",
   "execution_count": 3,
   "id": "81f1ef0c",
   "metadata": {},
   "outputs": [
    {
     "name": "stdout",
     "output_type": "stream",
     "text": [
      "Enter variable a: siya\n",
      "Enter variable b: tanu\n",
      "original values:  siya tanu\n",
      "Swapped variables: a=tanu,b=siya\n"
     ]
    }
   ],
   "source": [
    "a=input(\"Enter variable a: \")\n",
    "b=input(\"Enter variable b: \")\n",
    "print(\"original values: \",a,b)\n",
    "# swap values using temparory variable\n",
    "temp=a\n",
    "a=b\n",
    "b=temp\n",
    "print(f\"Swapped variables: a={a},b={b}\")"
   ]
  },
  {
   "cell_type": "markdown",
   "id": "07910356",
   "metadata": {},
   "source": [
    "## generate random number"
   ]
  },
  {
   "cell_type": "code",
   "execution_count": 7,
   "id": "3de577b9",
   "metadata": {},
   "outputs": [
    {
     "name": "stdout",
     "output_type": "stream",
     "text": [
      "random number: 36\n"
     ]
    }
   ],
   "source": [
    "import random\n",
    "print(f\"random number: {random.randint(1,100)}\")"
   ]
  },
  {
   "cell_type": "markdown",
   "id": "8f2fc5a3",
   "metadata": {},
   "source": [
    "## Convert Kilometers to Miles"
   ]
  },
  {
   "cell_type": "code",
   "execution_count": 10,
   "id": "0323180a",
   "metadata": {},
   "outputs": [
    {
     "name": "stdout",
     "output_type": "stream",
     "text": [
      "Enter diatance in kilometer: 2\n",
      "2.0 kilometer is equal to 1.242742 miles\n"
     ]
    }
   ],
   "source": [
    "# 1km= 0.621371miles\n",
    "km=float(input(\"Enter diatance in kilometer: \"))\n",
    "miles=km*0.621371\n",
    "print(f\"{km} kilometer is equal to {miles} miles\")"
   ]
  },
  {
   "cell_type": "markdown",
   "id": "92255169",
   "metadata": {},
   "source": [
    "## Convert celsius to fahrenheit"
   ]
  },
  {
   "cell_type": "code",
   "execution_count": 11,
   "id": "2ae0c9cb",
   "metadata": {},
   "outputs": [
    {
     "name": "stdout",
     "output_type": "stream",
     "text": [
      "Enter temp in celsius: 32\n",
      "32.0 degree celsius is euqal to 89.6 degree farenheit\n"
     ]
    }
   ],
   "source": [
    "celsius=float(input(\"Enter temp in celsius: \"))\n",
    "faren=(celsius*9/5)+32\n",
    "print(f\"{celsius} degree celsius is euqal to {faren} degree farenheit\")"
   ]
  },
  {
   "cell_type": "markdown",
   "id": "d9ec9933",
   "metadata": {},
   "source": [
    "## programm to display calender"
   ]
  },
  {
   "cell_type": "code",
   "execution_count": 5,
   "id": "024d96e6",
   "metadata": {},
   "outputs": [
    {
     "name": "stdout",
     "output_type": "stream",
     "text": [
      "enter year: 2024\n",
      "                                  2024\n",
      "\n",
      "      January                   February                   March\n",
      "Mo Tu We Th Fr Sa Su      Mo Tu We Th Fr Sa Su      Mo Tu We Th Fr Sa Su\n",
      " 1  2  3  4  5  6  7                1  2  3  4                   1  2  3\n",
      " 8  9 10 11 12 13 14       5  6  7  8  9 10 11       4  5  6  7  8  9 10\n",
      "15 16 17 18 19 20 21      12 13 14 15 16 17 18      11 12 13 14 15 16 17\n",
      "22 23 24 25 26 27 28      19 20 21 22 23 24 25      18 19 20 21 22 23 24\n",
      "29 30 31                  26 27 28 29               25 26 27 28 29 30 31\n",
      "\n",
      "       April                      May                       June\n",
      "Mo Tu We Th Fr Sa Su      Mo Tu We Th Fr Sa Su      Mo Tu We Th Fr Sa Su\n",
      " 1  2  3  4  5  6  7             1  2  3  4  5                      1  2\n",
      " 8  9 10 11 12 13 14       6  7  8  9 10 11 12       3  4  5  6  7  8  9\n",
      "15 16 17 18 19 20 21      13 14 15 16 17 18 19      10 11 12 13 14 15 16\n",
      "22 23 24 25 26 27 28      20 21 22 23 24 25 26      17 18 19 20 21 22 23\n",
      "29 30                     27 28 29 30 31            24 25 26 27 28 29 30\n",
      "\n",
      "        July                     August                  September\n",
      "Mo Tu We Th Fr Sa Su      Mo Tu We Th Fr Sa Su      Mo Tu We Th Fr Sa Su\n",
      " 1  2  3  4  5  6  7                1  2  3  4                         1\n",
      " 8  9 10 11 12 13 14       5  6  7  8  9 10 11       2  3  4  5  6  7  8\n",
      "15 16 17 18 19 20 21      12 13 14 15 16 17 18       9 10 11 12 13 14 15\n",
      "22 23 24 25 26 27 28      19 20 21 22 23 24 25      16 17 18 19 20 21 22\n",
      "29 30 31                  26 27 28 29 30 31         23 24 25 26 27 28 29\n",
      "                                                    30\n",
      "\n",
      "      October                   November                  December\n",
      "Mo Tu We Th Fr Sa Su      Mo Tu We Th Fr Sa Su      Mo Tu We Th Fr Sa Su\n",
      "    1  2  3  4  5  6                   1  2  3                         1\n",
      " 7  8  9 10 11 12 13       4  5  6  7  8  9 10       2  3  4  5  6  7  8\n",
      "14 15 16 17 18 19 20      11 12 13 14 15 16 17       9 10 11 12 13 14 15\n",
      "21 22 23 24 25 26 27      18 19 20 21 22 23 24      16 17 18 19 20 21 22\n",
      "28 29 30 31               25 26 27 28 29 30         23 24 25 26 27 28 29\n",
      "                                                    30 31\n",
      "\n"
     ]
    }
   ],
   "source": [
    "import calendar\n",
    "year=int(input(\"enter year: \"))\n",
    "# month=int(input(\"enter month: \"))\n",
    "cal=calendar.calendar(year)\n",
    "print(cal)"
   ]
  },
  {
   "cell_type": "markdown",
   "id": "2e8f92b9",
   "metadata": {},
   "source": [
    "## calendar for month and year"
   ]
  },
  {
   "cell_type": "code",
   "execution_count": 7,
   "id": "4cedf683",
   "metadata": {},
   "outputs": [
    {
     "name": "stdout",
     "output_type": "stream",
     "text": [
      "enter year: 2024\n",
      "enter month: 02\n",
      "   February 2024\n",
      "Mo Tu We Th Fr Sa Su\n",
      "          1  2  3  4\n",
      " 5  6  7  8  9 10 11\n",
      "12 13 14 15 16 17 18\n",
      "19 20 21 22 23 24 25\n",
      "26 27 28 29\n",
      "\n"
     ]
    }
   ],
   "source": [
    "import calendar\n",
    "year=int(input(\"enter year: \"))\n",
    "month=int(input(\"enter month: \"))\n",
    "cal=calendar.month(year,month)\n",
    "print(cal)"
   ]
  },
  {
   "cell_type": "code",
   "execution_count": null,
   "id": "c9d2aeb8",
   "metadata": {},
   "outputs": [],
   "source": []
  }
 ],
 "metadata": {
  "kernelspec": {
   "display_name": "Python 3 (ipykernel)",
   "language": "python",
   "name": "python3"
  },
  "language_info": {
   "codemirror_mode": {
    "name": "ipython",
    "version": 3
   },
   "file_extension": ".py",
   "mimetype": "text/x-python",
   "name": "python",
   "nbconvert_exporter": "python",
   "pygments_lexer": "ipython3",
   "version": "3.9.13"
  }
 },
 "nbformat": 4,
 "nbformat_minor": 5
}
