{
 "cells": [
  {
   "cell_type": "code",
   "execution_count": 1,
   "id": "ffdaa970",
   "metadata": {},
   "outputs": [
    {
     "name": "stdout",
     "output_type": "stream",
     "text": [
      "1 nepu n\n",
      "1 nepu e\n",
      "1 nepu p\n",
      "1 nepu u\n",
      "1 shikna s\n",
      "1 shikna h\n",
      "1 shikna i\n",
      "1 shikna k\n",
      "1 shikna n\n",
      "1 shikna a\n",
      "2 mbaimu m\n",
      "1 mbaimu b\n",
      "1 mbaimu a\n",
      "1 mbaimu i\n",
      "2 mbaimu m\n",
      "1 mbaimu u\n",
      "1 ngloreba n\n",
      "1 ngloreba g\n",
      "1 ngloreba l\n",
      "1 ngloreba o\n",
      "1 ngloreba r\n",
      "1 ngloreba e\n",
      "1 ngloreba b\n",
      "1 ngloreba a\n",
      "1 tarasa t\n",
      "3 tarasa a\n",
      "1 tarasa r\n",
      "3 tarasa a\n",
      "1 tarasa s\n",
      "3 tarasa a\n",
      "1 lhide l\n",
      "1 lhide h\n",
      "1 lhide i\n",
      "1 lhide d\n",
      "1 lhide e\n",
      "1 lhapurko l\n",
      "1 lhapurko h\n",
      "1 lhapurko a\n",
      "1 lhapurko p\n",
      "1 lhapurko u\n",
      "1 lhapurko r\n",
      "1 lhapurko k\n",
      "1 lhapurko o\n",
      "['nepu', 'shikna', 'mbaimu', 'ngloreba', 'tarasa', 'lhide', 'lhapurko']\n"
     ]
    }
   ],
   "source": [
    "city=['pune','nashik','mumbai','banglore','satara','delhi','kolhapur']\n",
    "city1=[]\n",
    "for x in city:\n",
    "    s1=x[:2]\n",
    "    s2=x[2:]\n",
    "    s=s2+s1\n",
    "    city1.append(s)\n",
    "for i in city1:\n",
    "    for y in i:\n",
    "        n=i.count(y)\n",
    "        print(n,i,y)\n",
    "print(city1)"
   ]
  },
  {
   "cell_type": "code",
   "execution_count": 2,
   "id": "762b9a17",
   "metadata": {},
   "outputs": [],
   "source": [
    "def task(n):\n",
    "    city=[]\n",
    "    new_city=[]\n",
    "    for j in range(n):\n",
    "        ci=input(\"enter city: \")\n",
    "        city.append(ci)\n",
    "    for x in city:\n",
    "        s1=x[:2]\n",
    "        s2=x[2:]\n",
    "        s=s2+s1\n",
    "        new_city.append(s)\n",
    "    for i in new_city:\n",
    "        for y in i:\n",
    "            n=i.count(y)\n",
    "            print(n,i,y)\n",
    "    print(new_city)"
   ]
  },
  {
   "cell_type": "code",
   "execution_count": 3,
   "id": "2dd489c9",
   "metadata": {},
   "outputs": [
    {
     "name": "stdout",
     "output_type": "stream",
     "text": [
      "enter city: Mumbai\n",
      "enter city: Banglore\n",
      "1 mbaiMu m\n",
      "1 mbaiMu b\n",
      "1 mbaiMu a\n",
      "1 mbaiMu i\n",
      "1 mbaiMu M\n",
      "1 mbaiMu u\n",
      "1 ngloreBa n\n",
      "1 ngloreBa g\n",
      "1 ngloreBa l\n",
      "1 ngloreBa o\n",
      "1 ngloreBa r\n",
      "1 ngloreBa e\n",
      "1 ngloreBa B\n",
      "1 ngloreBa a\n",
      "['mbaiMu', 'ngloreBa']\n"
     ]
    }
   ],
   "source": [
    "task(2)"
   ]
  },
  {
   "cell_type": "code",
   "execution_count": 4,
   "id": "82503aa4",
   "metadata": {},
   "outputs": [
    {
     "name": "stdout",
     "output_type": "stream",
     "text": [
      "enter city: Nashik\n",
      "enter city: Satara\n",
      "enter city: Pune\n",
      "1 shikNa s\n",
      "1 shikNa h\n",
      "1 shikNa i\n",
      "1 shikNa k\n",
      "1 shikNa N\n",
      "1 shikNa a\n",
      "1 taraSa t\n",
      "3 taraSa a\n",
      "1 taraSa r\n",
      "3 taraSa a\n",
      "1 taraSa S\n",
      "3 taraSa a\n",
      "1 nePu n\n",
      "1 nePu e\n",
      "1 nePu P\n",
      "1 nePu u\n",
      "['shikNa', 'taraSa', 'nePu']\n"
     ]
    }
   ],
   "source": [
    "task(3)"
   ]
  },
  {
   "cell_type": "markdown",
   "id": "3a9875da",
   "metadata": {},
   "source": [
    "## Task 2"
   ]
  },
  {
   "cell_type": "code",
   "execution_count": 6,
   "id": "4b3847b8",
   "metadata": {},
   "outputs": [
    {
     "name": "stdout",
     "output_type": "stream",
     "text": [
      "enter n: 5\n",
      "Enter name: Priya\n",
      "Enter name: Madhuri\n",
      "Enter name: Komal\n",
      "Enter name: Sapana\n",
      "Enter name: Vaibhav\n",
      "['Priya', 'Madhuri', 'Sapana']\n"
     ]
    }
   ],
   "source": [
    "name=[]\n",
    "vowels=['a','e','i','o','u']\n",
    "new=[]\n",
    "n=int(input(\"enter n: \"))\n",
    "for i in range(n):\n",
    "    na=input(\"Enter name: \")\n",
    "    name.append(na)\n",
    "for x in name:\n",
    "    a=x[-1]\n",
    "    for y in vowels:\n",
    "        if y==a:\n",
    "            new.append(x)\n",
    "\n",
    "print(new)"
   ]
  },
  {
   "cell_type": "markdown",
   "id": "a5d0aaf3",
   "metadata": {},
   "source": [
    "## Task 3"
   ]
  },
  {
   "cell_type": "code",
   "execution_count": 7,
   "id": "954fe2b0",
   "metadata": {},
   "outputs": [
    {
     "name": "stdout",
     "output_type": "stream",
     "text": [
      "['baINDaINDa', 'manINDo']\n",
      "['appAUSe', 'pineappAUSe']\n"
     ]
    }
   ],
   "source": [
    "fruits=['apple','banana','mango','pineapple']\n",
    "new1=[]\n",
    "new2=[]\n",
    "for i in fruits:\n",
    "    if 'an' in i:\n",
    "        s1=i.replace(i[-2],'IND')\n",
    "        new1.append(s1)\n",
    "    else:\n",
    "        s2=i.replace(i[-2],'AUS')\n",
    "\n",
    "        new2.append(s2)\n",
    "print(new1)\n",
    "print(new2)"
   ]
  },
  {
   "cell_type": "code",
   "execution_count": 8,
   "id": "6e6e7a1c",
   "metadata": {},
   "outputs": [
    {
     "name": "stdout",
     "output_type": "stream",
     "text": [
      "['bananINDa', 'mangINDo']\n",
      "['applAUSe', 'pineapplAUSe']\n"
     ]
    }
   ],
   "source": [
    "fruits=['apple','banana','mango','pineapple']\n",
    "new1=[]\n",
    "new2=[]\n",
    "for i in fruits:\n",
    "    ab=i[:-2]\n",
    "    cd=i[-2]\n",
    "    ac=i[-1]\n",
    "    if 'an' in i:\n",
    "        s1=ab+cd+'IND'+ac\n",
    "        new1.append(s1)\n",
    "    else:\n",
    "        s2=ab+cd+'AUS'+ac\n",
    "        new2.append(s2)\n",
    "print(new1)\n",
    "print(new2)\n",
    "    "
   ]
  },
  {
   "cell_type": "code",
   "execution_count": 9,
   "id": "ee45c39b",
   "metadata": {},
   "outputs": [],
   "source": [
    "def details(n):\n",
    "    data=[]\n",
    "    new1=[]\n",
    "  \n",
    "    for x in range(n):\n",
    "        name=input(\"Enter name: \")\n",
    "        data.append(name)\n",
    "    for i in data:\n",
    "        ab=i[:-2]\n",
    "        cd=i[-2:]\n",
    "        if 'an' in i:\n",
    "            s1=ab+cd+'IND'+ac\n",
    "            new1.append(s1)\n",
    "            continue\n",
    "    print(new1)\n",
    "       \n",
    "\n",
    "\n",
    "    "
   ]
  },
  {
   "cell_type": "code",
   "execution_count": 10,
   "id": "dd164c2d",
   "metadata": {},
   "outputs": [
    {
     "name": "stdout",
     "output_type": "stream",
     "text": [
      "Enter name: Banana\n",
      "Enter name: Apple\n",
      "Enter name: MAngo\n",
      "Enter name: Orange\n",
      "Enter name: Strawberry\n",
      "['BananaINDe', 'OrangeINDe']\n"
     ]
    }
   ],
   "source": [
    "details(5)"
   ]
  },
  {
   "cell_type": "markdown",
   "id": "c94f8f5f",
   "metadata": {},
   "source": [
    "## Task 4"
   ]
  },
  {
   "cell_type": "code",
   "execution_count": 13,
   "id": "f2486c4d",
   "metadata": {},
   "outputs": [
    {
     "name": "stdout",
     "output_type": "stream",
     "text": [
      "enter n: 2\n",
      "Enter name: sai\n",
      "Enter name: siya\n",
      "Enter marks of sai\n",
      "Enter marks: 56\n",
      "Enter marks: 65\n",
      "Enter marks: 56\n",
      "Enter marks: 66\n",
      "Enter marks of siya\n",
      "Enter marks: 76\n",
      "Enter marks: 67\n",
      "Enter marks: 78\n",
      "[243, 221]\n",
      "['New_Total Marks are: ', 248, 'New_Total Marks are: ', 226]\n",
      "[60.75, 73.66666666666667]\n",
      "[62.0, 75.33333333333333]\n"
     ]
    }
   ],
   "source": [
    "name=[]\n",
    "counts=[]\n",
    "total=[]\n",
    "new_total=[]\n",
    "average=[]\n",
    "new_average=[]\n",
    "marks=[]\n",
    "n=int(input(\"enter n: \"))\n",
    "for i in range(n):\n",
    "    na=input(\"Enter name: \")\n",
    "    name.append(na)\n",
    "for x in name:\n",
    "    l=len(x)\n",
    "    counts.append(l)\n",
    "    print('Enter marks of',x)\n",
    "    if l%2==0:\n",
    "        for i in range(3):\n",
    "            m=int(input('Enter marks: '))\n",
    "            marks.append(m)\n",
    "    else:\n",
    "        for i in range(4):\n",
    "            m1=int(input('Enter marks: '))\n",
    "            marks.append(m1)\n",
    "    t=sum(marks)\n",
    "    total.append(t)\n",
    "    av=t/len(marks)\n",
    "    average.append(av)\n",
    "    if av<50:\n",
    "        print(\"please study hard...\")\n",
    "    elif 50<=av<75:\n",
    "        t=t+5\n",
    "        avg=t/len(marks)\n",
    "        new_total.append(\"New_Total Marks are: \")\n",
    "        new_total.append(t)\n",
    "        new_average.append(avg)\n",
    "    elif 75<=av<=100:\n",
    "        t=t+7\n",
    "        avg=t/len(marks)\n",
    "        new_total.append(\"New_Total Marks are: \")\n",
    "        new_total.append(t)\n",
    "        new_average.append(avg)\n",
    "    else:\n",
    "        print(\"enter valid marks... \")\n",
    "    marks.clear()\n",
    "print(total)\n",
    "print(new_total)\n",
    "print(average)\n",
    "print(new_average)\n",
    "\n",
    "\n",
    "\n"
   ]
  },
  {
   "cell_type": "markdown",
   "id": "fef1804b",
   "metadata": {},
   "source": [
    "##### "
   ]
  },
  {
   "cell_type": "code",
   "execution_count": 11,
   "id": "08ad0403",
   "metadata": {},
   "outputs": [],
   "source": [
    "\n",
    "def result():\n",
    "    name=[]\n",
    "    counts=[]\n",
    "    marks=[]\n",
    "    n=int(input(\"enter n: \"))\n",
    "    for i in range(n):\n",
    "        na=input(\"Enter name: \")\n",
    "        name.append(na)\n",
    "    for x in name:\n",
    "        l=len(x)\n",
    "        counts.append(l)\n",
    "        if l%2==0:\n",
    "            for i in range(3):\n",
    "                m=int(input('Enter marks: '))\n",
    "                marks.append(m)\n",
    "        else:\n",
    "            for i in range(4):\n",
    "                m1=int(input('Enter marks: '))\n",
    "                marks.append(m1)\n",
    "        \n",
    "    return marks\n",
    "def avg():\n",
    "    total=[]\n",
    "    new_total=[]\n",
    "    average=[]\n",
    "    new_average=[]\n",
    "    ma=result()\n",
    "    t=sum(ma)\n",
    "    total.append(t)\n",
    "    av=t/len(ma)\n",
    "    if av<50:\n",
    "        print(\"please study hard...\")\n",
    "    elif 50<=av<75:\n",
    "        t=t+5\n",
    "        new_total.append(t)\n",
    "    elif 75<=av<=100:\n",
    "        t=t+7\n",
    "        new_total.append(t)\n",
    "    else:\n",
    "        print(\"enter valid marks... \")\n",
    "    ma.clear()\n",
    "    print(total)\n",
    "    print(new_total)\n",
    "\n",
    "        \n",
    "    "
   ]
  },
  {
   "cell_type": "code",
   "execution_count": 105,
   "id": "f57c16b1",
   "metadata": {},
   "outputs": [
    {
     "name": "stdout",
     "output_type": "stream",
     "text": [
      "enter n: 2\n",
      "Enter name: sai\n",
      "Enter name: siya\n",
      "Enter marks: 34\n",
      "Enter marks: 45\n",
      "Enter marks: 56\n",
      "Enter marks: 67\n",
      "Enter marks: 78\n",
      "Enter marks: 76\n",
      "Enter marks: 56\n",
      "[412]\n",
      "[417]\n"
     ]
    }
   ],
   "source": [
    "\n",
    "avg()"
   ]
  }
 ],
 "metadata": {
  "kernelspec": {
   "display_name": "Python 3 (ipykernel)",
   "language": "python",
   "name": "python3"
  },
  "language_info": {
   "codemirror_mode": {
    "name": "ipython",
    "version": 3
   },
   "file_extension": ".py",
   "mimetype": "text/x-python",
   "name": "python",
   "nbconvert_exporter": "python",
   "pygments_lexer": "ipython3",
   "version": "3.9.12"
  }
 },
 "nbformat": 4,
 "nbformat_minor": 5
}
