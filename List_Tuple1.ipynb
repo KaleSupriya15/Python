{
  "nbformat": 4,
  "nbformat_minor": 0,
  "metadata": {
    "colab": {
      "provenance": [],
      "collapsed_sections": [],
      "mount_file_id": "1eM7douGdllcCHYo5R-lnXa5k0J1K4XH9",
      "authorship_tag": "ABX9TyMkmc9aw0dcyiE7EdMt8qZy",
      "include_colab_link": true
    },
    "kernelspec": {
      "name": "python3",
      "display_name": "Python 3"
    },
    "language_info": {
      "name": "python"
    }
  },
  "cells": [
    {
      "cell_type": "markdown",
      "metadata": {
        "id": "view-in-github",
        "colab_type": "text"
      },
      "source": [
        "<a href=\"https://colab.research.google.com/github/KaleSupriya15/Python/blob/main/List_Tuple1.ipynb\" target=\"_parent\"><img src=\"https://colab.research.google.com/assets/colab-badge.svg\" alt=\"Open In Colab\"/></a>"
      ]
    },
    {
      "cell_type": "code",
      "execution_count": null,
      "metadata": {
        "id": "2oJeu3gPhaeI"
      },
      "outputs": [],
      "source": [
        "name=['Priya','Komal','Siya',\"Sapana\",'Madhuri']\n",
        "city=['Nagar','Nashik','Pune','Kolhapur','Mumbai']\n"
      ]
    },
    {
      "cell_type": "code",
      "source": [
        "#Append method\n",
        "city.append('Banglore')\n"
      ],
      "metadata": {
        "id": "h5q1leflkJmC"
      },
      "execution_count": null,
      "outputs": []
    },
    {
      "cell_type": "code",
      "source": [
        "city"
      ],
      "metadata": {
        "colab": {
          "base_uri": "https://localhost:8080/"
        },
        "id": "D7QoPCoXkxpe",
        "outputId": "d9f7ed90-60ae-4280-8a46-76cb13ea6f6f"
      },
      "execution_count": null,
      "outputs": [
        {
          "output_type": "execute_result",
          "data": {
            "text/plain": [
              "['Nagar', 'Nashik', 'Pune', 'Kolhapur', 'Mumbai', 'Banglore']"
            ]
          },
          "metadata": {},
          "execution_count": 3
        }
      ]
    },
    {
      "cell_type": "code",
      "source": [
        "city.insert(1,'Noida')\n",
        "city"
      ],
      "metadata": {
        "colab": {
          "base_uri": "https://localhost:8080/"
        },
        "id": "WvWWeCp-kyUZ",
        "outputId": "01795dab-606c-4786-8d91-17a1cde242de"
      },
      "execution_count": null,
      "outputs": [
        {
          "output_type": "execute_result",
          "data": {
            "text/plain": [
              "['Nagar', 'Noida', 'Nashik', 'Pune', 'Kolhapur', 'Mumbai', 'Banglore']"
            ]
          },
          "metadata": {},
          "execution_count": 4
        }
      ]
    },
    {
      "cell_type": "code",
      "source": [
        "city.pop(2)\n",
        "city"
      ],
      "metadata": {
        "colab": {
          "base_uri": "https://localhost:8080/"
        },
        "id": "bmezFp5OlD11",
        "outputId": "2c942313-3e0f-4958-8063-d130b3081ecd"
      },
      "execution_count": null,
      "outputs": [
        {
          "output_type": "execute_result",
          "data": {
            "text/plain": [
              "['Nagar', 'Noida', 'Pune', 'Kolhapur', 'Mumbai', 'Banglore']"
            ]
          },
          "metadata": {},
          "execution_count": 7
        }
      ]
    },
    {
      "cell_type": "code",
      "source": [
        "city.index('Pune')    # for finding index"
      ],
      "metadata": {
        "colab": {
          "base_uri": "https://localhost:8080/"
        },
        "id": "JFe-m8QrlmYp",
        "outputId": "cfd12a9a-e046-4416-cd36-1f228c14fda5"
      },
      "execution_count": null,
      "outputs": [
        {
          "output_type": "execute_result",
          "data": {
            "text/plain": [
              "2"
            ]
          },
          "metadata": {},
          "execution_count": 9
        }
      ]
    },
    {
      "cell_type": "code",
      "source": [
        "city[3]       # for finding item"
      ],
      "metadata": {
        "colab": {
          "base_uri": "https://localhost:8080/",
          "height": 36
        },
        "id": "Wpxe9vxjmJtg",
        "outputId": "9ade8cd8-d45b-4a52-cf4e-bba0577b9b36"
      },
      "execution_count": null,
      "outputs": [
        {
          "output_type": "execute_result",
          "data": {
            "text/plain": [
              "'Kolhapur'"
            ],
            "application/vnd.google.colaboratory.intrinsic+json": {
              "type": "string"
            }
          },
          "metadata": {},
          "execution_count": 14
        }
      ]
    },
    {
      "cell_type": "code",
      "source": [
        "city"
      ],
      "metadata": {
        "colab": {
          "base_uri": "https://localhost:8080/"
        },
        "id": "VlJEYnMvmYWG",
        "outputId": "2ed3b75c-f15c-40dc-a7b0-e9a2f1ebf223"
      },
      "execution_count": null,
      "outputs": [
        {
          "output_type": "execute_result",
          "data": {
            "text/plain": [
              "['Nagar', 'Noida', 'Pune', 'Kolhapur', 'Mumbai', 'Banglore']"
            ]
          },
          "metadata": {},
          "execution_count": 15
        }
      ]
    },
    {
      "cell_type": "code",
      "source": [
        "a= int(input(\"Enter a: \"))\n",
        "b=int(input(\"enter b: \"))\n",
        "for i in city:\n",
        "  if i=='Pune':\n",
        "    print(\"Addition: \",a+b,i)\n",
        "  else:\n",
        "    print(\"substraction: \",i)\n",
        "\n"
      ],
      "metadata": {
        "colab": {
          "base_uri": "https://localhost:8080/"
        },
        "id": "bgB2WRGpnvlx",
        "outputId": "c7883a8d-a85b-47d5-be94-ec53a928f8aa"
      },
      "execution_count": null,
      "outputs": [
        {
          "name": "stdout",
          "output_type": "stream",
          "text": [
            "Enter a: 45\n"
          ]
        }
      ]
    },
    {
      "cell_type": "code",
      "source": [
        "city"
      ],
      "metadata": {
        "id": "YkBtKFitotXg",
        "colab": {
          "base_uri": "https://localhost:8080/"
        },
        "outputId": "8b26377a-02e7-4940-dcac-4420947a7f98"
      },
      "execution_count": null,
      "outputs": [
        {
          "output_type": "execute_result",
          "data": {
            "text/plain": [
              "['Nagar', 'Nashik', 'Pune', 'Kolhapur', 'Mumbai']"
            ]
          },
          "metadata": {},
          "execution_count": 19
        }
      ]
    },
    {
      "cell_type": "code",
      "source": [
        "city=['Nagar', 'Nashik', 'Pune', 'Kolhapur', 'Mumbai']\n",
        "for x in city:\n",
        "  if x=='Pune':\n",
        "    city.append(\"Satara\")\n",
        "    print(city)\n",
        "  else:\n",
        "    city.remove(\"Nashik\")\n",
        "    print(city)"
      ],
      "metadata": {
        "colab": {
          "base_uri": "https://localhost:8080/",
          "height": 264
        },
        "id": "iA8p4qkUq0I-",
        "outputId": "d636154c-26be-450e-d16c-1d40922a0b04"
      },
      "execution_count": null,
      "outputs": [
        {
          "output_type": "stream",
          "name": "stdout",
          "text": [
            "['Nagar', 'Pune', 'Kolhapur', 'Mumbai']\n",
            "['Nagar', 'Pune', 'Kolhapur', 'Mumbai', 'Satara']\n"
          ]
        },
        {
          "output_type": "error",
          "ename": "ValueError",
          "evalue": "ignored",
          "traceback": [
            "\u001b[0;31m---------------------------------------------------------------------------\u001b[0m",
            "\u001b[0;31mValueError\u001b[0m                                Traceback (most recent call last)",
            "\u001b[0;32m<ipython-input-32-3aeb1aacea11>\u001b[0m in \u001b[0;36m<module>\u001b[0;34m\u001b[0m\n\u001b[1;32m      5\u001b[0m     \u001b[0mprint\u001b[0m\u001b[0;34m(\u001b[0m\u001b[0mcity\u001b[0m\u001b[0;34m)\u001b[0m\u001b[0;34m\u001b[0m\u001b[0;34m\u001b[0m\u001b[0m\n\u001b[1;32m      6\u001b[0m   \u001b[0;32melse\u001b[0m\u001b[0;34m:\u001b[0m\u001b[0;34m\u001b[0m\u001b[0;34m\u001b[0m\u001b[0m\n\u001b[0;32m----> 7\u001b[0;31m     \u001b[0mcity\u001b[0m\u001b[0;34m.\u001b[0m\u001b[0mremove\u001b[0m\u001b[0;34m(\u001b[0m\u001b[0;34m\"Nashik\"\u001b[0m\u001b[0;34m)\u001b[0m\u001b[0;34m\u001b[0m\u001b[0;34m\u001b[0m\u001b[0m\n\u001b[0m\u001b[1;32m      8\u001b[0m     \u001b[0mprint\u001b[0m\u001b[0;34m(\u001b[0m\u001b[0mcity\u001b[0m\u001b[0;34m)\u001b[0m\u001b[0;34m\u001b[0m\u001b[0;34m\u001b[0m\u001b[0m\n",
            "\u001b[0;31mValueError\u001b[0m: list.remove(x): x not in list"
          ]
        }
      ]
    },
    {
      "cell_type": "code",
      "source": [
        "students=['Priya','Siya','Ritu','Komal','Sapana','Mayur','Vaibhav','Vishal','Kunal','Abhay','Arya','Akshay','Swara']\n",
        "girls=['Priya','Siya','Ritu','Arya']\n",
        "boys=['Vaibhav','Vishal','Kunal','Abhay']\n",
        "girls_host=[]\n",
        "boys_host=[]\n",
        "outsider=[]\n",
        "for x in students:\n",
        "  if x in girls:\n",
        "    girls_host.append(x)\n",
        "  elif x in boys:\n",
        "    boys_host.append(x)\n",
        "  else:\n",
        "    outsider.append(x)\n",
        "\n",
        "print(\"Girls in hostel: \",girls_host)\n",
        "print(\"Boys in hostel: \",boys_host)\n",
        "print(\"outside students: \",outsider)\n"
      ],
      "metadata": {
        "colab": {
          "base_uri": "https://localhost:8080/"
        },
        "id": "FmnBku3trKiy",
        "outputId": "927211a1-d4e6-4419-902c-890446ddcd46"
      },
      "execution_count": null,
      "outputs": [
        {
          "output_type": "stream",
          "name": "stdout",
          "text": [
            "Girls in hostel:  ['Priya', 'Siya', 'Ritu', 'Arya']\n",
            "Boys in hostel:  ['Vaibhav', 'Vishal', 'Kunal', 'Abhay']\n",
            "outside students:  ['Komal', 'Sapana', 'Mayur', 'Akshay', 'Swara']\n"
          ]
        }
      ]
    },
    {
      "cell_type": "code",
      "source": [],
      "metadata": {
        "id": "Ab8QEyDJtuFn"
      },
      "execution_count": null,
      "outputs": []
    },
    {
      "cell_type": "code",
      "source": [
        "# 5 city\n",
        "# count city\n",
        "# even/odd\n",
        "even_city=[]\n",
        "odd_city=[]\n",
        "city=['Mumbai','Pune','Nashik','Banglore','Kolhapur','Satara','Ahmednagar','Noida']\n",
        "for x in city:\n",
        "  l=len(x)\n",
        "  if l%2==0:\n",
        "    even_city.append(x)\n",
        "  else:\n",
        "    odd_city.append(x)\n",
        "  \n",
        "print('length of city is even number: ',even_city)\n",
        "print('length of city is odd number: ',odd_city)\n",
        "\n"
      ],
      "metadata": {
        "colab": {
          "base_uri": "https://localhost:8080/"
        },
        "id": "xbGvDGqVv8WG",
        "outputId": "3ee924d9-5ef2-47d6-f823-f7c1f5eab7f6"
      },
      "execution_count": null,
      "outputs": [
        {
          "output_type": "stream",
          "name": "stdout",
          "text": [
            "length of city is even number:  ['Mumbai', 'Pune', 'Nashik', 'Banglore', 'Kolhapur', 'Satara', 'Ahmednagar', 'Aurangabad']\n",
            "length of city is odd number:  ['Noida']\n"
          ]
        }
      ]
    },
    {
      "cell_type": "code",
      "source": [
        "city=['Mumbai','Pune','Nashik','Banglore','Kolhapur','Satara','Ahmednagar','Noida']\n",
        "code=[]\n",
        "reg_no=[]\n",
        "for x in city:\n",
        "  reg=x[:4]\n",
        "  l=len(x)\n",
        "  code.append(l)\n",
        "  reg_code=reg+str(l)\n",
        "  reg_no.append(reg_code)\n",
        "\n",
        "\n",
        "print(reg_no)"
      ],
      "metadata": {
        "colab": {
          "base_uri": "https://localhost:8080/"
        },
        "id": "80YIbSJwzAr8",
        "outputId": "c29f7889-e053-4f79-fad9-c33857622120"
      },
      "execution_count": null,
      "outputs": [
        {
          "output_type": "stream",
          "name": "stdout",
          "text": [
            "['Mumb6', 'Pune4', 'Nash6', 'Bang8', 'Kolh8', 'Sata6', 'Ahme10', 'Noid5']\n"
          ]
        }
      ]
    },
    {
      "cell_type": "code",
      "source": [
        "n=int(input(\"Enter n: \"))\n",
        "for i in range(n):\n",
        "  for j in range(i):\n",
        "    print('*',end=' ')\n",
        "  print( )"
      ],
      "metadata": {
        "id": "LG6ivRAjSlVo",
        "colab": {
          "base_uri": "https://localhost:8080/"
        },
        "outputId": "33af626c-1984-4eca-d3d1-9e77362ac258"
      },
      "execution_count": null,
      "outputs": [
        {
          "output_type": "stream",
          "name": "stdout",
          "text": [
            "Enter n: 10\n",
            "\n",
            "* \n",
            "* * \n",
            "* * * \n",
            "* * * * \n",
            "* * * * * \n",
            "* * * * * * \n",
            "* * * * * * * \n",
            "* * * * * * * * \n",
            "* * * * * * * * * \n"
          ]
        }
      ]
    },
    {
      "cell_type": "code",
      "source": [
        "n=int(input(\"Enter n: \"))\n",
        "for i in range(n):\n",
        "  for j in range(i):\n",
        "    print('*',end=' ')\n",
        "  print( )"
      ],
      "metadata": {
        "colab": {
          "base_uri": "https://localhost:8080/"
        },
        "id": "CFiATA1xn7tY",
        "outputId": "16695843-947f-48b3-9103-9a55c9b4299c"
      },
      "execution_count": null,
      "outputs": [
        {
          "output_type": "stream",
          "name": "stdout",
          "text": [
            "Enter n: 5\n",
            "\n",
            "* \n",
            "* * \n",
            "* * * \n",
            "* * * * \n"
          ]
        }
      ]
    },
    {
      "cell_type": "markdown",
      "source": [
        "## Tuple\n",
        "tuple is unchangable\n"
      ],
      "metadata": {
        "id": "zjht39XDBYz7"
      }
    },
    {
      "cell_type": "code",
      "source": [
        "t=(1,2,3,4,5,6)\n",
        "print(t)"
      ],
      "metadata": {
        "id": "sdptxIRforAv",
        "colab": {
          "base_uri": "https://localhost:8080/"
        },
        "outputId": "38701612-a8b6-426e-aca4-b0bcf7fb507b"
      },
      "execution_count": null,
      "outputs": [
        {
          "output_type": "stream",
          "name": "stdout",
          "text": [
            "(1, 2, 3, 4, 5, 6)\n"
          ]
        }
      ]
    },
    {
      "cell_type": "code",
      "source": [
        "t.insert(1,'23')"
      ],
      "metadata": {
        "colab": {
          "base_uri": "https://localhost:8080/",
          "height": 327
        },
        "id": "wFg7EkolPZk7",
        "outputId": "7bb152c4-e3e8-4d4c-9f4c-d184721bf0b4"
      },
      "execution_count": null,
      "outputs": [
        {
          "output_type": "error",
          "ename": "AttributeError",
          "evalue": "ignored",
          "traceback": [
            "\u001b[0;31m---------------------------------------------------------------------------\u001b[0m",
            "\u001b[0;31mAttributeError\u001b[0m                            Traceback (most recent call last)",
            "\u001b[0;32m<ipython-input-2-73bbf4d520c1>\u001b[0m in \u001b[0;36m<module>\u001b[0;34m\u001b[0m\n\u001b[0;32m----> 1\u001b[0;31m \u001b[0mt\u001b[0m\u001b[0;34m.\u001b[0m\u001b[0minsert\u001b[0m\u001b[0;34m(\u001b[0m\u001b[0;36m1\u001b[0m\u001b[0;34m,\u001b[0m\u001b[0;34m'23'\u001b[0m\u001b[0;34m)\u001b[0m\u001b[0;34m\u001b[0m\u001b[0;34m\u001b[0m\u001b[0m\n\u001b[0m",
            "\u001b[0;31mAttributeError\u001b[0m: 'tuple' object has no attribute 'insert'"
          ]
        },
        {
          "output_type": "error",
          "ename": "AttributeError",
          "evalue": "ignored",
          "traceback": [
            "\u001b[0;31m---------------------------------------------------------------------------\u001b[0m",
            "\u001b[0;31mAttributeError\u001b[0m                            Traceback (most recent call last)",
            "\u001b[0;32m<ipython-input-3-73bbf4d520c1>\u001b[0m in \u001b[0;36m<module>\u001b[0;34m\u001b[0m\n\u001b[0;32m----> 1\u001b[0;31m \u001b[0mt\u001b[0m\u001b[0;34m.\u001b[0m\u001b[0minsert\u001b[0m\u001b[0;34m(\u001b[0m\u001b[0;36m1\u001b[0m\u001b[0;34m,\u001b[0m\u001b[0;34m'23'\u001b[0m\u001b[0;34m)\u001b[0m\u001b[0;34m\u001b[0m\u001b[0;34m\u001b[0m\u001b[0m\n\u001b[0m",
            "\u001b[0;31mAttributeError\u001b[0m: 'tuple' object has no attribute 'insert'"
          ]
        }
      ]
    },
    {
      "cell_type": "code",
      "source": [
        "t.append(9)"
      ],
      "metadata": {
        "colab": {
          "base_uri": "https://localhost:8080/",
          "height": 172
        },
        "id": "Oa9SpjD_PnBz",
        "outputId": "6b304989-ffbf-4b3b-a250-d821442488fd"
      },
      "execution_count": null,
      "outputs": [
        {
          "output_type": "error",
          "ename": "AttributeError",
          "evalue": "ignored",
          "traceback": [
            "\u001b[0;31m---------------------------------------------------------------------------\u001b[0m",
            "\u001b[0;31mAttributeError\u001b[0m                            Traceback (most recent call last)",
            "\u001b[0;32m<ipython-input-4-550ef8997ad6>\u001b[0m in \u001b[0;36m<module>\u001b[0;34m\u001b[0m\n\u001b[0;32m----> 1\u001b[0;31m \u001b[0mt\u001b[0m\u001b[0;34m.\u001b[0m\u001b[0mappend\u001b[0m\u001b[0;34m(\u001b[0m\u001b[0;36m9\u001b[0m\u001b[0;34m)\u001b[0m\u001b[0;34m\u001b[0m\u001b[0;34m\u001b[0m\u001b[0m\n\u001b[0m",
            "\u001b[0;31mAttributeError\u001b[0m: 'tuple' object has no attribute 'append'"
          ]
        }
      ]
    },
    {
      "cell_type": "code",
      "source": [
        "t/2"
      ],
      "metadata": {
        "colab": {
          "base_uri": "https://localhost:8080/",
          "height": 172
        },
        "id": "-H4KAg8aP3wg",
        "outputId": "b276b6d7-b8df-48a5-8e1b-afba0812e6c0"
      },
      "execution_count": null,
      "outputs": [
        {
          "output_type": "error",
          "ename": "TypeError",
          "evalue": "ignored",
          "traceback": [
            "\u001b[0;31m---------------------------------------------------------------------------\u001b[0m",
            "\u001b[0;31mTypeError\u001b[0m                                 Traceback (most recent call last)",
            "\u001b[0;32m<ipython-input-5-c08d3b0403c5>\u001b[0m in \u001b[0;36m<module>\u001b[0;34m\u001b[0m\n\u001b[0;32m----> 1\u001b[0;31m \u001b[0mt\u001b[0m\u001b[0;34m/\u001b[0m\u001b[0;36m2\u001b[0m\u001b[0;34m\u001b[0m\u001b[0;34m\u001b[0m\u001b[0m\n\u001b[0m",
            "\u001b[0;31mTypeError\u001b[0m: unsupported operand type(s) for /: 'tuple' and 'int'"
          ]
        }
      ]
    },
    {
      "cell_type": "code",
      "source": [
        "t+5"
      ],
      "metadata": {
        "colab": {
          "base_uri": "https://localhost:8080/",
          "height": 172
        },
        "id": "zN3omkZpP7Ge",
        "outputId": "15fd4cca-1325-451a-9113-5718000a1ff6"
      },
      "execution_count": null,
      "outputs": [
        {
          "output_type": "error",
          "ename": "TypeError",
          "evalue": "ignored",
          "traceback": [
            "\u001b[0;31m---------------------------------------------------------------------------\u001b[0m",
            "\u001b[0;31mTypeError\u001b[0m                                 Traceback (most recent call last)",
            "\u001b[0;32m<ipython-input-6-5b28db3dada7>\u001b[0m in \u001b[0;36m<module>\u001b[0;34m\u001b[0m\n\u001b[0;32m----> 1\u001b[0;31m \u001b[0mt\u001b[0m\u001b[0;34m+\u001b[0m\u001b[0;36m5\u001b[0m\u001b[0;34m\u001b[0m\u001b[0;34m\u001b[0m\u001b[0m\n\u001b[0m",
            "\u001b[0;31mTypeError\u001b[0m: can only concatenate tuple (not \"int\") to tuple"
          ]
        }
      ]
    },
    {
      "cell_type": "code",
      "source": [
        "t1=(9,8,7)"
      ],
      "metadata": {
        "id": "3PWmFFiWP9rl"
      },
      "execution_count": null,
      "outputs": []
    },
    {
      "cell_type": "code",
      "source": [
        "t+t1     #concatenate tuple"
      ],
      "metadata": {
        "colab": {
          "base_uri": "https://localhost:8080/"
        },
        "id": "hyJJ4ZxGQDVM",
        "outputId": "c14ddebb-68f8-456c-9a58-cb2be5f01bdd"
      },
      "execution_count": null,
      "outputs": [
        {
          "output_type": "execute_result",
          "data": {
            "text/plain": [
              "(1, 2, 3, 4, 5, 6, 9, 8, 7)"
            ]
          },
          "metadata": {},
          "execution_count": 8
        }
      ]
    },
    {
      "cell_type": "code",
      "source": [],
      "metadata": {
        "id": "r-AxW6LTQEqN"
      },
      "execution_count": null,
      "outputs": []
    }
  ]
}