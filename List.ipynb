{
 "cells": [
  {
   "cell_type": "markdown",
   "id": "31e90302",
   "metadata": {},
   "source": [
    "### Python append() method\n",
    "syntax : list.append (element)\n",
    "\n",
    "Used for adding elements to the end of the List. "
   ]
  },
  {
   "cell_type": "code",
   "execution_count": 2,
   "id": "af055b05",
   "metadata": {},
   "outputs": [
    {
     "name": "stdout",
     "output_type": "stream",
     "text": [
      "['Mathematics', 'chemistry', 1997, 2000, 20544]\n"
     ]
    }
   ],
   "source": [
    "List = ['Mathematics', 'chemistry', 1997, 2000] \n",
    "List.append(20544) \n",
    "print(List) "
   ]
  },
  {
   "cell_type": "markdown",
   "id": "95307ae3",
   "metadata": {},
   "source": [
    "### Python insert() method\n",
    "Inserts an element at the specified position. \n",
    "\n",
    "Syntax:\n",
    "\n",
    "list.insert(<position, element)\n",
    "\n",
    "The position mentioned should be within the range of List, as in this case between 0 and 4, else wise would throw IndexError."
   ]
  },
  {
   "cell_type": "code",
   "execution_count": 3,
   "id": "a869ffd8",
   "metadata": {},
   "outputs": [
    {
     "name": "stdout",
     "output_type": "stream",
     "text": [
      "['Mathematics', 'chemistry', 10087, 1997, 2000]\n"
     ]
    }
   ],
   "source": [
    "List = ['Mathematics', 'chemistry', 1997, 2000] \n",
    "# Insert at index 2 value 10087 \n",
    "List.insert(2, 10087) \n",
    "print(List) "
   ]
  },
  {
   "cell_type": "markdown",
   "id": "36afb429",
   "metadata": {},
   "source": [
    "### Python extend() method\n",
    "Adds items of an iterable(list, array, string , etc.) to the end of a list\n",
    "\n",
    "Syntax: List1.extend(List2)"
   ]
  },
  {
   "cell_type": "code",
   "execution_count": 4,
   "id": "752f393a",
   "metadata": {},
   "outputs": [
    {
     "name": "stdout",
     "output_type": "stream",
     "text": [
      "[1, 2, 3, 2, 3, 4, 5]\n",
      "[2, 3, 4, 5, 1, 2, 3, 2, 3, 4, 5]\n"
     ]
    }
   ],
   "source": [
    "List1 = [1, 2, 3] \n",
    "List2 = [2, 3, 4, 5] \n",
    "  \n",
    "# Add List2 to List1 \n",
    "List1.extend(List2) \n",
    "print(List1) \n",
    "  \n",
    "# Add List1 to List2 now \n",
    "List2.extend(List1) \n",
    "print(List2) "
   ]
  },
  {
   "cell_type": "markdown",
   "id": "bba53479",
   "metadata": {},
   "source": [
    "## Important functions of the Python List\n",
    "We have mentioned some essential Python list functions along with their syntax and example:\n",
    "\n",
    "### Python sum() method\n",
    "Calculates the sum of all the elements of the List. \n",
    "\n",
    "Syntax: sum(List)"
   ]
  },
  {
   "cell_type": "code",
   "execution_count": 5,
   "id": "5a68b64b",
   "metadata": {},
   "outputs": [
    {
     "name": "stdout",
     "output_type": "stream",
     "text": [
      "15\n"
     ]
    }
   ],
   "source": [
    "List = [1, 2, 3, 4, 5] \n",
    "print(sum(List)) "
   ]
  },
  {
   "cell_type": "markdown",
   "id": "c0596ad9",
   "metadata": {},
   "source": [
    "What happens if a numeric value is not used as a parameter? \n",
    "\n",
    "The sum is calculated only for numeric values, else wise throws TypeError. \n"
   ]
  },
  {
   "cell_type": "code",
   "execution_count": 6,
   "id": "0377663a",
   "metadata": {},
   "outputs": [
    {
     "ename": "TypeError",
     "evalue": "unsupported operand type(s) for +: 'int' and 'str'",
     "output_type": "error",
     "traceback": [
      "\u001b[1;31m---------------------------------------------------------------------------\u001b[0m",
      "\u001b[1;31mTypeError\u001b[0m                                 Traceback (most recent call last)",
      "\u001b[1;32m~\\AppData\\Local\\Temp\\ipykernel_17220\\3925246948.py\u001b[0m in \u001b[0;36m<module>\u001b[1;34m\u001b[0m\n\u001b[0;32m      1\u001b[0m \u001b[0mList\u001b[0m \u001b[1;33m=\u001b[0m \u001b[1;33m[\u001b[0m\u001b[1;34m'gfg'\u001b[0m\u001b[1;33m,\u001b[0m \u001b[1;34m'abc'\u001b[0m\u001b[1;33m,\u001b[0m \u001b[1;36m3\u001b[0m\u001b[1;33m]\u001b[0m\u001b[1;33m\u001b[0m\u001b[1;33m\u001b[0m\u001b[0m\n\u001b[1;32m----> 2\u001b[1;33m \u001b[0mprint\u001b[0m\u001b[1;33m(\u001b[0m\u001b[0msum\u001b[0m\u001b[1;33m(\u001b[0m\u001b[0mList\u001b[0m\u001b[1;33m)\u001b[0m\u001b[1;33m)\u001b[0m\u001b[1;33m\u001b[0m\u001b[1;33m\u001b[0m\u001b[0m\n\u001b[0m",
      "\u001b[1;31mTypeError\u001b[0m: unsupported operand type(s) for +: 'int' and 'str'"
     ]
    }
   ],
   "source": [
    "List = ['gfg', 'abc', 3] \n",
    "print(sum(List)) "
   ]
  },
  {
   "cell_type": "markdown",
   "id": "9190ed4b",
   "metadata": {},
   "source": [
    "### Python count() method\n",
    "Calculates the total occurrence of a given element of the List. \n",
    "\n",
    "Syntax: List.count(element)"
   ]
  },
  {
   "cell_type": "code",
   "execution_count": 7,
   "id": "736d8475",
   "metadata": {},
   "outputs": [
    {
     "name": "stdout",
     "output_type": "stream",
     "text": [
      "4\n"
     ]
    }
   ],
   "source": [
    "List = [1, 2, 3, 1, 2, 1, 2, 3, 2, 1] \n",
    "print(List.count(1)) "
   ]
  },
  {
   "cell_type": "markdown",
   "id": "a334073d",
   "metadata": {},
   "source": [
    "### Python len() method\n",
    "Calculates the total length of the List. \n",
    "\n",
    "Syntax: len(list_name)"
   ]
  },
  {
   "cell_type": "code",
   "execution_count": 8,
   "id": "a0b588ea",
   "metadata": {},
   "outputs": [
    {
     "name": "stdout",
     "output_type": "stream",
     "text": [
      "10\n"
     ]
    }
   ],
   "source": [
    "List = [1, 2, 3, 1, 2, 1, 2, 3, 2, 1] \n",
    "print(len(List)) "
   ]
  },
  {
   "cell_type": "markdown",
   "id": "330ab43e",
   "metadata": {},
   "source": [
    "### Python index() method\n",
    "Returns the index of the first occurrence. The start and end indexes are not necessary parameters. \n",
    "\n",
    "Syntax: List.index(element[,start[,end]])"
   ]
  },
  {
   "cell_type": "code",
   "execution_count": 9,
   "id": "9833e06a",
   "metadata": {},
   "outputs": [
    {
     "name": "stdout",
     "output_type": "stream",
     "text": [
      "1\n"
     ]
    }
   ],
   "source": [
    "List = [1, 2, 3, 1, 2, 1, 2, 3, 2, 1] \n",
    "print(List.index(2)) "
   ]
  },
  {
   "cell_type": "code",
   "execution_count": 10,
   "id": "afd2b8b4",
   "metadata": {},
   "outputs": [
    {
     "name": "stdout",
     "output_type": "stream",
     "text": [
      "4\n"
     ]
    }
   ],
   "source": [
    "List = [1, 2, 3, 1, 2, 1, 2, 3, 2, 1] \n",
    "print(List.index(2, 2)) "
   ]
  },
  {
   "cell_type": "markdown",
   "id": "dac2e2a7",
   "metadata": {},
   "source": [
    "### Python min() method\n",
    "Calculates minimum of all the elements of List.\n",
    "\n",
    "Syntax: min(iterable, *iterables[, key])"
   ]
  },
  {
   "cell_type": "code",
   "execution_count": 16,
   "id": "cbba40a0",
   "metadata": {},
   "outputs": [
    {
     "name": "stdout",
     "output_type": "stream",
     "text": [
      "9\n"
     ]
    }
   ],
   "source": [
    "numbers = [5, 2, 8, 1, 9] \n",
    "print(max(numbers)) "
   ]
  },
  {
   "cell_type": "markdown",
   "id": "fb43a843",
   "metadata": {},
   "source": [
    "Python sort() method\n",
    "Sort the given data structure (both tuple and list) in ascending order.\n",
    "\n",
    "Key and reverse_flag are not necessary parameter and reverse_flag is set to False if nothing is passed through sorted(). "
   ]
  },
  {
   "cell_type": "code",
   "execution_count": 23,
   "id": "4365ccd9",
   "metadata": {},
   "outputs": [
    {
     "name": "stdout",
     "output_type": "stream",
     "text": [
      "[10, 9, 8, 7, 6, 5, 4, 3, 1]\n"
     ]
    }
   ],
   "source": [
    "List = [1,9,3,10,4,5,6,7,8]\n",
    "#Reverse flag is set True \n",
    "List.sort(reverse=True)  \n",
    "  \n",
    "#List.sort().reverse(), reverses the sorted list   \n",
    "print(List)         "
   ]
  },
  {
   "cell_type": "code",
   "execution_count": 24,
   "id": "434f3454",
   "metadata": {},
   "outputs": [
    {
     "name": "stdout",
     "output_type": "stream",
     "text": [
      "[5, 4, 7, 6, 3, 2, 1]\n"
     ]
    }
   ],
   "source": [
    "# creating a list \n",
    "list = [1,2,3,6,7,4,5] \n",
    "#reversing the list \n",
    "list.reverse() \n",
    "#printing the list \n",
    "print(list)"
   ]
  },
  {
   "cell_type": "markdown",
   "id": "bfc410ba",
   "metadata": {},
   "source": [
    "## Python pop() method\n",
    "Removes an item from a specific index in a list.\n",
    "\n",
    "Syntax: list.pop([index])\n",
    "\n",
    "The index is not a necessary parameter, if not mentioned takes the last index. "
   ]
  },
  {
   "cell_type": "code",
   "execution_count": 25,
   "id": "c6433718",
   "metadata": {},
   "outputs": [
    {
     "name": "stdout",
     "output_type": "stream",
     "text": [
      "2.5\n"
     ]
    }
   ],
   "source": [
    "List = [2.3, 4.445, 3, 5.33, 1.054, 2.5] \n",
    "print(List.pop()) "
   ]
  },
  {
   "cell_type": "code",
   "execution_count": 26,
   "id": "dba77dfe",
   "metadata": {},
   "outputs": [
    {
     "data": {
      "text/plain": [
       "[2.3, 4.445, 3, 5.33, 1.054]"
      ]
     },
     "execution_count": 26,
     "metadata": {},
     "output_type": "execute_result"
    }
   ],
   "source": [
    "List"
   ]
  },
  {
   "cell_type": "code",
   "execution_count": 33,
   "id": "376ec855",
   "metadata": {},
   "outputs": [
    {
     "name": "stdout",
     "output_type": "stream",
     "text": [
      "[2.3, 3, 5.33, 1.054, 2.5]\n"
     ]
    }
   ],
   "source": [
    "List = [2.3, 4.445, 3, 5.33, 1.054, 2.5] \n",
    "List.pop(1)\n",
    "print(List)"
   ]
  },
  {
   "cell_type": "code",
   "execution_count": 30,
   "id": "ce6b9196",
   "metadata": {},
   "outputs": [
    {
     "data": {
      "text/plain": [
       "[2.3, 3, 5.33, 1.054, 2.5]"
      ]
     },
     "execution_count": 30,
     "metadata": {},
     "output_type": "execute_result"
    }
   ],
   "source": [
    "List"
   ]
  },
  {
   "cell_type": "markdown",
   "id": "de0a4563",
   "metadata": {},
   "source": [
    "### Python del() method\n",
    "Deletes an element from the list using it’s index.\n",
    "\n",
    "Syntax: del list.[index]"
   ]
  },
  {
   "cell_type": "code",
   "execution_count": 43,
   "id": "5c75d352",
   "metadata": {},
   "outputs": [
    {
     "name": "stdout",
     "output_type": "stream",
     "text": [
      "[3, 5.33, 1.054, 2.5]\n"
     ]
    }
   ],
   "source": [
    "List = [2.3, 4.445, 3, 5.33, 1.054, 2.5] \n",
    "del List[0:2] \n",
    "print(List) "
   ]
  },
  {
   "cell_type": "code",
   "execution_count": 44,
   "id": "bcb83e5f",
   "metadata": {},
   "outputs": [
    {
     "name": "stdout",
     "output_type": "stream",
     "text": [
      "[4.445, 3, 5.33, 1.054, 2.5]\n"
     ]
    }
   ],
   "source": [
    "List = [2.3, 4.445, 3, 5.33, 1.054, 2.5] \n",
    "del List[0]\n",
    "print(List) "
   ]
  },
  {
   "cell_type": "code",
   "execution_count": 47,
   "id": "0a5ea646",
   "metadata": {},
   "outputs": [],
   "source": [
    "List.clear()"
   ]
  },
  {
   "cell_type": "code",
   "execution_count": 48,
   "id": "fdf6eefb",
   "metadata": {},
   "outputs": [
    {
     "data": {
      "text/plain": [
       "[]"
      ]
     },
     "execution_count": 48,
     "metadata": {},
     "output_type": "execute_result"
    }
   ],
   "source": [
    "List"
   ]
  },
  {
   "cell_type": "code",
   "execution_count": 37,
   "id": "4bdab934",
   "metadata": {},
   "outputs": [],
   "source": [
    "del(List)"
   ]
  },
  {
   "cell_type": "code",
   "execution_count": 38,
   "id": "0513dfd7",
   "metadata": {},
   "outputs": [
    {
     "ename": "NameError",
     "evalue": "name 'List' is not defined",
     "output_type": "error",
     "traceback": [
      "\u001b[1;31m---------------------------------------------------------------------------\u001b[0m",
      "\u001b[1;31mNameError\u001b[0m                                 Traceback (most recent call last)",
      "\u001b[1;32m~\\AppData\\Local\\Temp\\ipykernel_17220\\3682665742.py\u001b[0m in \u001b[0;36m<module>\u001b[1;34m\u001b[0m\n\u001b[1;32m----> 1\u001b[1;33m \u001b[0mList\u001b[0m\u001b[1;33m\u001b[0m\u001b[1;33m\u001b[0m\u001b[0m\n\u001b[0m",
      "\u001b[1;31mNameError\u001b[0m: name 'List' is not defined"
     ]
    }
   ],
   "source": [
    "List"
   ]
  },
  {
   "cell_type": "markdown",
   "id": "ad802fde",
   "metadata": {},
   "source": [
    "### Python remove() method\n",
    "Removes a specific element using it’s value/name.\n",
    "\n",
    "Syntax: list.remove(element)"
   ]
  },
  {
   "cell_type": "code",
   "execution_count": 41,
   "id": "0ddd415d",
   "metadata": {},
   "outputs": [
    {
     "name": "stdout",
     "output_type": "stream",
     "text": [
      "[2.3, 4.445, 5.33, 1.054, 2.5]\n"
     ]
    }
   ],
   "source": [
    "List = [2.3, 4.445, 3, 5.33, 1.054, 2.5] \n",
    "List.remove(3) \n",
    "print(List) "
   ]
  },
  {
   "cell_type": "code",
   "execution_count": 42,
   "id": "7027502c",
   "metadata": {},
   "outputs": [
    {
     "data": {
      "text/plain": [
       "5"
      ]
     },
     "execution_count": 42,
     "metadata": {},
     "output_type": "execute_result"
    }
   ],
   "source": [
    "len(List)"
   ]
  },
  {
   "cell_type": "markdown",
   "id": "697d6c9e",
   "metadata": {},
   "source": [
    "### Append()"
   ]
  },
  {
   "cell_type": "code",
   "execution_count": 49,
   "id": "8ea756b3",
   "metadata": {},
   "outputs": [],
   "source": [
    "l=[1,2,3,4,5,6,7,8,9,10]"
   ]
  },
  {
   "cell_type": "code",
   "execution_count": 50,
   "id": "4ecdab8c",
   "metadata": {},
   "outputs": [],
   "source": [
    "l.append(3)"
   ]
  },
  {
   "cell_type": "code",
   "execution_count": 51,
   "id": "89aa98b0",
   "metadata": {},
   "outputs": [
    {
     "data": {
      "text/plain": [
       "[1, 2, 3, 4, 5, 6, 7, 8, 9, 10, 3]"
      ]
     },
     "execution_count": 51,
     "metadata": {},
     "output_type": "execute_result"
    }
   ],
   "source": [
    "l"
   ]
  },
  {
   "cell_type": "code",
   "execution_count": 53,
   "id": "cdf02bc8",
   "metadata": {},
   "outputs": [],
   "source": [
    "l.sort()"
   ]
  },
  {
   "cell_type": "code",
   "execution_count": 54,
   "id": "42bc92d5",
   "metadata": {},
   "outputs": [
    {
     "name": "stdout",
     "output_type": "stream",
     "text": [
      "[1, 2, 3, 3, 4, 5, 6, 7, 8, 9, 10]\n"
     ]
    }
   ],
   "source": [
    "print(l)"
   ]
  },
  {
   "cell_type": "code",
   "execution_count": 57,
   "id": "4b42bbe1",
   "metadata": {},
   "outputs": [
    {
     "name": "stdout",
     "output_type": "stream",
     "text": [
      "[10, 9, 8, 7, 6, 5, 4, 3, 3, 2, 1]\n"
     ]
    }
   ],
   "source": [
    "l.reverse()\n",
    "print(l)"
   ]
  },
  {
   "cell_type": "code",
   "execution_count": 58,
   "id": "a9daa188",
   "metadata": {},
   "outputs": [
    {
     "data": {
      "text/plain": [
       "7"
      ]
     },
     "execution_count": 58,
     "metadata": {},
     "output_type": "execute_result"
    }
   ],
   "source": [
    "l.index(3)"
   ]
  },
  {
   "cell_type": "code",
   "execution_count": 59,
   "id": "f519263b",
   "metadata": {},
   "outputs": [
    {
     "data": {
      "text/plain": [
       "1"
      ]
     },
     "execution_count": 59,
     "metadata": {},
     "output_type": "execute_result"
    }
   ],
   "source": [
    "l.count(1)"
   ]
  },
  {
   "cell_type": "code",
   "execution_count": 60,
   "id": "ee1aa80d",
   "metadata": {},
   "outputs": [
    {
     "data": {
      "text/plain": [
       "2"
      ]
     },
     "execution_count": 60,
     "metadata": {},
     "output_type": "execute_result"
    }
   ],
   "source": [
    "l.count(3)"
   ]
  },
  {
   "cell_type": "code",
   "execution_count": 62,
   "id": "38c8e3de",
   "metadata": {},
   "outputs": [
    {
     "name": "stdout",
     "output_type": "stream",
     "text": [
      "[0, 9, 8, 7, 6, 5, 4, 3, 3, 2, 1]\n"
     ]
    }
   ],
   "source": [
    "m=l\n",
    "m[0]=0\n",
    "print(l)"
   ]
  },
  {
   "cell_type": "code",
   "execution_count": 63,
   "id": "9e73db93",
   "metadata": {},
   "outputs": [
    {
     "name": "stdout",
     "output_type": "stream",
     "text": [
      "[0, 9, 8, 7, 6, 5, 4, 3, 3, 2, 1]\n"
     ]
    }
   ],
   "source": [
    "print(m)"
   ]
  },
  {
   "cell_type": "code",
   "execution_count": 65,
   "id": "15a1f11d",
   "metadata": {},
   "outputs": [],
   "source": [
    "l=[1,2,3,4,5]"
   ]
  },
  {
   "cell_type": "code",
   "execution_count": 66,
   "id": "748295d2",
   "metadata": {},
   "outputs": [],
   "source": [
    "m=l.copy()"
   ]
  },
  {
   "cell_type": "code",
   "execution_count": 67,
   "id": "8594faa2",
   "metadata": {},
   "outputs": [
    {
     "name": "stdout",
     "output_type": "stream",
     "text": [
      "[1, 2, 3, 4, 5]\n"
     ]
    }
   ],
   "source": [
    "print(m)"
   ]
  },
  {
   "cell_type": "code",
   "execution_count": 68,
   "id": "cfa66f62",
   "metadata": {},
   "outputs": [],
   "source": [
    "m.insert(2,7)"
   ]
  },
  {
   "cell_type": "code",
   "execution_count": 69,
   "id": "9ecb6cee",
   "metadata": {},
   "outputs": [
    {
     "data": {
      "text/plain": [
       "[1, 2, 7, 3, 4, 5]"
      ]
     },
     "execution_count": 69,
     "metadata": {},
     "output_type": "execute_result"
    }
   ],
   "source": [
    "m"
   ]
  },
  {
   "cell_type": "code",
   "execution_count": 70,
   "id": "227baa75",
   "metadata": {},
   "outputs": [],
   "source": [
    "l.extend([4,5,6])"
   ]
  },
  {
   "cell_type": "code",
   "execution_count": 71,
   "id": "ee2f4eda",
   "metadata": {},
   "outputs": [
    {
     "data": {
      "text/plain": [
       "[1, 2, 3, 4, 5, 4, 5, 6]"
      ]
     },
     "execution_count": 71,
     "metadata": {},
     "output_type": "execute_result"
    }
   ],
   "source": [
    "l"
   ]
  },
  {
   "cell_type": "code",
   "execution_count": 72,
   "id": "ebe555fd",
   "metadata": {},
   "outputs": [],
   "source": [
    "l.extend(m)"
   ]
  },
  {
   "cell_type": "code",
   "execution_count": 75,
   "id": "39092313",
   "metadata": {},
   "outputs": [
    {
     "data": {
      "text/plain": [
       "[1, 2, 3, 4, 5, 4, 5, 6, 1, 2, 7, 3, 4, 5]"
      ]
     },
     "execution_count": 75,
     "metadata": {},
     "output_type": "execute_result"
    }
   ],
   "source": [
    "l"
   ]
  },
  {
   "cell_type": "code",
   "execution_count": 76,
   "id": "92a386f4",
   "metadata": {},
   "outputs": [],
   "source": [
    "# concatenate two list"
   ]
  },
  {
   "cell_type": "code",
   "execution_count": 77,
   "id": "976b556e",
   "metadata": {},
   "outputs": [],
   "source": [
    "k=l+m"
   ]
  },
  {
   "cell_type": "code",
   "execution_count": 78,
   "id": "8ccc7394",
   "metadata": {},
   "outputs": [
    {
     "data": {
      "text/plain": [
       "[1, 2, 3, 4, 5, 4, 5, 6, 1, 2, 7, 3, 4, 5, 1, 2, 7, 3, 4, 5]"
      ]
     },
     "execution_count": 78,
     "metadata": {},
     "output_type": "execute_result"
    }
   ],
   "source": [
    "k"
   ]
  },
  {
   "cell_type": "code",
   "execution_count": 79,
   "id": "ff0047c6",
   "metadata": {},
   "outputs": [
    {
     "name": "stdout",
     "output_type": "stream",
     "text": [
      "[1, 2, 3, 4, 5, 4, 5, 6, 1, 2, 7, 3, 4, 5, 1, 2, 7, 3, 4, 5]\n"
     ]
    }
   ],
   "source": [
    "for i in m:\n",
    "    l.append(i)\n",
    "print(l)"
   ]
  },
  {
   "cell_type": "markdown",
   "id": "84e090ed",
   "metadata": {},
   "source": [
    "## List Comprension"
   ]
  },
  {
   "cell_type": "code",
   "execution_count": 80,
   "id": "b1cf12d1",
   "metadata": {},
   "outputs": [
    {
     "name": "stdout",
     "output_type": "stream",
     "text": [
      "['apple', 'banana', 'mango']\n"
     ]
    }
   ],
   "source": [
    "fruits = [\"apple\", \"banana\", \"cherry\", \"kiwi\", \"mango\"]\n",
    "newlist = []\n",
    "\n",
    "for x in fruits:\n",
    "  if \"a\" in x:\n",
    "    newlist.append(x)\n",
    "\n",
    "print(newlist)"
   ]
  },
  {
   "cell_type": "code",
   "execution_count": 81,
   "id": "ff0f0d1b",
   "metadata": {},
   "outputs": [
    {
     "name": "stdout",
     "output_type": "stream",
     "text": [
      "['apple', 'banana', 'mango']\n"
     ]
    }
   ],
   "source": [
    "fruits = [\"apple\", \"banana\", \"cherry\", \"kiwi\", \"mango\"]\n",
    "\n",
    "newlist = [x for x in fruits if \"a\" in x]\n",
    "\n",
    "print(newlist)"
   ]
  },
  {
   "cell_type": "code",
   "execution_count": 82,
   "id": "2de9cd31",
   "metadata": {},
   "outputs": [],
   "source": [
    "newlist = [x for x in range(10)]"
   ]
  },
  {
   "cell_type": "code",
   "execution_count": 83,
   "id": "1ec1925b",
   "metadata": {},
   "outputs": [
    {
     "data": {
      "text/plain": [
       "[0, 1, 2, 3, 4, 5, 6, 7, 8, 9]"
      ]
     },
     "execution_count": 83,
     "metadata": {},
     "output_type": "execute_result"
    }
   ],
   "source": [
    "newlist"
   ]
  },
  {
   "cell_type": "code",
   "execution_count": 84,
   "id": "76e5c5cd",
   "metadata": {},
   "outputs": [
    {
     "data": {
      "text/plain": [
       "[0, 1, 2, 3, 4]"
      ]
     },
     "execution_count": 84,
     "metadata": {},
     "output_type": "execute_result"
    }
   ],
   "source": [
    "newlist = [x for x in range(10) if x < 5]\n",
    "newlist"
   ]
  },
  {
   "cell_type": "code",
   "execution_count": 88,
   "id": "de22e502",
   "metadata": {},
   "outputs": [
    {
     "data": {
      "text/plain": [
       "['APPLE', 'BANANA', 'CHERRY', 'KIWI', 'MANGO']"
      ]
     },
     "execution_count": 88,
     "metadata": {},
     "output_type": "execute_result"
    }
   ],
   "source": [
    "# Set the values in the new list to upper case:\n",
    "newlist=[x.upper() for x in fruits]\n",
    "newlist"
   ]
  },
  {
   "cell_type": "code",
   "execution_count": 90,
   "id": "e0833f19",
   "metadata": {},
   "outputs": [
    {
     "data": {
      "text/plain": [
       "['hello', 'hello', 'hello', 'hello', 'hello']"
      ]
     },
     "execution_count": 90,
     "metadata": {},
     "output_type": "execute_result"
    }
   ],
   "source": [
    "# Set all values in the new list to 'hello':\n",
    "newlist=[\"hello\" for x in fruits]\n",
    "newlist"
   ]
  },
  {
   "cell_type": "code",
   "execution_count": 91,
   "id": "be6ef1f8",
   "metadata": {},
   "outputs": [
    {
     "data": {
      "text/plain": [
       "['apple', 'orange', 'cherry', 'kiwi', 'mango']"
      ]
     },
     "execution_count": 91,
     "metadata": {},
     "output_type": "execute_result"
    }
   ],
   "source": [
    "# Return \"orange\" instead of \"banana\":\n",
    "newlist=[x if x!=\"banana\" else \"orange\" for x in fruits]\n",
    "newlist"
   ]
  },
  {
   "cell_type": "code",
   "execution_count": 95,
   "id": "b7dc38b5",
   "metadata": {},
   "outputs": [
    {
     "data": {
      "text/plain": [
       "['apple', 'orange', 'cherry', 'kiwi', 'mango']"
      ]
     },
     "execution_count": 95,
     "metadata": {},
     "output_type": "execute_result"
    }
   ],
   "source": [
    "newlist=[\"orange\" if x==\"banana\" else x for x in fruits]\n",
    "newlist"
   ]
  },
  {
   "cell_type": "code",
   "execution_count": 97,
   "id": "958438d0",
   "metadata": {},
   "outputs": [
    {
     "name": "stdout",
     "output_type": "stream",
     "text": [
      "An exception occurred\n"
     ]
    }
   ],
   "source": [
    "try:\n",
    "  print(y)\n",
    "except:\n",
    "  print(\"An exception occurred\")\n"
   ]
  },
  {
   "cell_type": "code",
   "execution_count": 100,
   "id": "b3f98f54",
   "metadata": {},
   "outputs": [
    {
     "name": "stdout",
     "output_type": "stream",
     "text": [
      "Hello\n"
     ]
    }
   ],
   "source": [
    "a=10\n",
    "b='o'\n",
    "try:\n",
    "    c=a+b\n",
    "    print(c)\n",
    "except:\n",
    "    print(\"Hello\")"
   ]
  },
  {
   "cell_type": "code",
   "execution_count": 1,
   "id": "d4d362da",
   "metadata": {},
   "outputs": [],
   "source": [
    "def add(x,y):\n",
    "    return x+y"
   ]
  },
  {
   "cell_type": "code",
   "execution_count": 2,
   "id": "102dd6b9",
   "metadata": {},
   "outputs": [
    {
     "data": {
      "text/plain": [
       "5"
      ]
     },
     "execution_count": 2,
     "metadata": {},
     "output_type": "execute_result"
    }
   ],
   "source": [
    "add(3,2)"
   ]
  },
  {
   "cell_type": "code",
   "execution_count": 27,
   "id": "3d07be88",
   "metadata": {},
   "outputs": [],
   "source": [
    "class addition:\n",
    "    def add(self,x,y):\n",
    "        print(x+y)"
   ]
  },
  {
   "cell_type": "code",
   "execution_count": 28,
   "id": "1ad62998",
   "metadata": {},
   "outputs": [],
   "source": [
    "obj=addition()"
   ]
  },
  {
   "cell_type": "code",
   "execution_count": 29,
   "id": "b2fafc32",
   "metadata": {},
   "outputs": [
    {
     "name": "stdout",
     "output_type": "stream",
     "text": [
      "7\n"
     ]
    }
   ],
   "source": [
    "obj.add(3,4)"
   ]
  },
  {
   "cell_type": "code",
   "execution_count": 16,
   "id": "00d04767",
   "metadata": {},
   "outputs": [
    {
     "name": "stdout",
     "output_type": "stream",
     "text": [
      "Variable x is not defined\n"
     ]
    }
   ],
   "source": [
    "try:\n",
    "    print(x)\n",
    "except NameError:\n",
    "    print(\"Variable x is not defined\")\n",
    "except:\n",
    "    print(\"Something else went wrong\")\n"
   ]
  },
  {
   "cell_type": "code",
   "execution_count": 17,
   "id": "6bd9c6af",
   "metadata": {},
   "outputs": [
    {
     "name": "stdout",
     "output_type": "stream",
     "text": [
      "Hello\n",
      "Nothing went wrong\n"
     ]
    }
   ],
   "source": [
    "try:\n",
    "    print(\"Hello\")\n",
    "except:\n",
    "    print(\"Something went wrong\")\n",
    "else:\n",
    "    print(\"Nothing went wrong\")"
   ]
  },
  {
   "cell_type": "code",
   "execution_count": 18,
   "id": "3b70638b",
   "metadata": {},
   "outputs": [
    {
     "name": "stdout",
     "output_type": "stream",
     "text": [
      "Something went wrong\n",
      "The 'try except' is finished\n"
     ]
    }
   ],
   "source": [
    "try:\n",
    "    print(x)\n",
    "except:\n",
    "    print(\"Something went wrong\")\n",
    "finally:\n",
    "    print(\"The 'try except' is finished\")"
   ]
  },
  {
   "cell_type": "code",
   "execution_count": 1,
   "id": "c5b3d7f3",
   "metadata": {},
   "outputs": [
    {
     "name": "stdout",
     "output_type": "stream",
     "text": [
      "[1, 23, 45, 32, 12, 11, 34]\n"
     ]
    }
   ],
   "source": [
    "l=[1,23,45,32,12,11,34]\n",
    "print(l)"
   ]
  },
  {
   "cell_type": "code",
   "execution_count": 8,
   "id": "aa33c628",
   "metadata": {},
   "outputs": [],
   "source": [
    "l1=l.reverse()\n",
    "l1"
   ]
  },
  {
   "cell_type": "code",
   "execution_count": 9,
   "id": "881a06dd",
   "metadata": {},
   "outputs": [
    {
     "name": "stdout",
     "output_type": "stream",
     "text": [
      "None\n"
     ]
    }
   ],
   "source": [
    "print(l1)"
   ]
  },
  {
   "cell_type": "code",
   "execution_count": 7,
   "id": "b345beec",
   "metadata": {},
   "outputs": [
    {
     "name": "stdout",
     "output_type": "stream",
     "text": [
      "None\n"
     ]
    }
   ],
   "source": [
    "print(l.sort())"
   ]
  },
  {
   "cell_type": "code",
   "execution_count": 10,
   "id": "97446e77",
   "metadata": {},
   "outputs": [
    {
     "name": "stdout",
     "output_type": "stream",
     "text": [
      "[1, 11, 12, 23, 32, 34, 45]\n"
     ]
    }
   ],
   "source": [
    "l1=l[::-1]\n",
    "print(l1)"
   ]
  },
  {
   "cell_type": "code",
   "execution_count": 13,
   "id": "6969c931",
   "metadata": {},
   "outputs": [],
   "source": [
    "l1.reverse()"
   ]
  },
  {
   "cell_type": "code",
   "execution_count": 14,
   "id": "b372340d",
   "metadata": {},
   "outputs": [
    {
     "name": "stdout",
     "output_type": "stream",
     "text": [
      "[45, 34, 32, 23, 12, 11, 1]\n"
     ]
    }
   ],
   "source": [
    "print(l1)"
   ]
  },
  {
   "cell_type": "code",
   "execution_count": 15,
   "id": "f1526ff7",
   "metadata": {},
   "outputs": [],
   "source": [
    "l.reverse()"
   ]
  },
  {
   "cell_type": "code",
   "execution_count": 21,
   "id": "b5fbfc3d",
   "metadata": {},
   "outputs": [],
   "source": [
    "l=[1,2,3,4,5]"
   ]
  },
  {
   "cell_type": "code",
   "execution_count": 22,
   "id": "09faf27b",
   "metadata": {},
   "outputs": [
    {
     "name": "stdout",
     "output_type": "stream",
     "text": [
      "None\n"
     ]
    }
   ],
   "source": [
    "print(l.reverse())"
   ]
  },
  {
   "cell_type": "code",
   "execution_count": 23,
   "id": "da38894b",
   "metadata": {},
   "outputs": [
    {
     "name": "stdout",
     "output_type": "stream",
     "text": [
      "[5, 4, 3, 2, 1]\n"
     ]
    }
   ],
   "source": [
    "print(l)"
   ]
  },
  {
   "cell_type": "code",
   "execution_count": 25,
   "id": "32a29113",
   "metadata": {},
   "outputs": [],
   "source": [
    "l.sort(reverse=True)"
   ]
  },
  {
   "cell_type": "code",
   "execution_count": 26,
   "id": "cad5b7b7",
   "metadata": {},
   "outputs": [
    {
     "data": {
      "text/plain": [
       "[5, 4, 3, 2, 1]"
      ]
     },
     "execution_count": 26,
     "metadata": {},
     "output_type": "execute_result"
    }
   ],
   "source": [
    "l"
   ]
  },
  {
   "cell_type": "code",
   "execution_count": 27,
   "id": "e8b5131f",
   "metadata": {},
   "outputs": [],
   "source": [
    "l.reverse()"
   ]
  },
  {
   "cell_type": "code",
   "execution_count": 28,
   "id": "72ce5c24",
   "metadata": {},
   "outputs": [
    {
     "data": {
      "text/plain": [
       "[1, 2, 3, 4, 5]"
      ]
     },
     "execution_count": 28,
     "metadata": {},
     "output_type": "execute_result"
    }
   ],
   "source": [
    "l"
   ]
  },
  {
   "cell_type": "code",
   "execution_count": null,
   "id": "a9248fba",
   "metadata": {},
   "outputs": [],
   "source": []
  }
 ],
 "metadata": {
  "kernelspec": {
   "display_name": "Python 3 (ipykernel)",
   "language": "python",
   "name": "python3"
  },
  "language_info": {
   "codemirror_mode": {
    "name": "ipython",
    "version": 3
   },
   "file_extension": ".py",
   "mimetype": "text/x-python",
   "name": "python",
   "nbconvert_exporter": "python",
   "pygments_lexer": "ipython3",
   "version": "3.9.13"
  }
 },
 "nbformat": 4,
 "nbformat_minor": 5
}
