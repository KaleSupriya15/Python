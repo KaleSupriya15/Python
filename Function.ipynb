{
  "nbformat": 4,
  "nbformat_minor": 0,
  "metadata": {
    "colab": {
      "provenance": [],
      "collapsed_sections": [],
      "authorship_tag": "ABX9TyOIBKQd+DlLw66lZrKyNh+c"
    },
    "kernelspec": {
      "name": "python3",
      "display_name": "Python 3"
    },
    "language_info": {
      "name": "python"
    }
  },
  "cells": [
    {
      "cell_type": "code",
      "source": [
        "from google.colab import drive\n",
        "drive.mount('/content/drive')"
      ],
      "metadata": {
        "colab": {
          "base_uri": "https://localhost:8080/"
        },
        "id": "B2jWVd8jGzvm",
        "outputId": "92eafad9-3757-4c30-dc51-5f8fb2b85a09"
      },
      "execution_count": null,
      "outputs": [
        {
          "output_type": "stream",
          "name": "stdout",
          "text": [
            "Mounted at /content/drive\n"
          ]
        }
      ]
    },
    {
      "cell_type": "code",
      "execution_count": null,
      "metadata": {
        "id": "oi-rk4epq7KN",
        "colab": {
          "base_uri": "https://localhost:8080/"
        },
        "outputId": "944907ab-0ade-4066-e8b6-32e2d2002f4d"
      },
      "outputs": [
        {
          "output_type": "stream",
          "name": "stdout",
          "text": [
            "30\n"
          ]
        }
      ],
      "source": [
        "#Function without argument\n",
        "def add():\n",
        "  a=10\n",
        "  b=20\n",
        "  print(a+b)\n",
        "add()"
      ]
    },
    {
      "cell_type": "code",
      "source": [
        "# function with argument\n",
        "def addition(a,b):\n",
        "  print(a+b)\n",
        "\n",
        "addition(20,60)"
      ],
      "metadata": {
        "id": "YFYl7U_0uVwv",
        "colab": {
          "base_uri": "https://localhost:8080/"
        },
        "outputId": "05c67136-14e4-4973-b6a0-3b90dd6891db"
      },
      "execution_count": null,
      "outputs": [
        {
          "output_type": "stream",
          "name": "stdout",
          "text": [
            "80\n"
          ]
        }
      ]
    },
    {
      "cell_type": "code",
      "source": [
        "def person(a,b):\n",
        "  print(a+b)\n",
        "\n",
        "a=int(input(\"Enter a: \"))\n",
        "b=int(input(\"Enter b: \"))\n",
        "person(a,b)"
      ],
      "metadata": {
        "colab": {
          "base_uri": "https://localhost:8080/"
        },
        "id": "iSXmjI2NHaWk",
        "outputId": "6ee9ce3f-c76c-44ec-963b-bb3fc46b6efb"
      },
      "execution_count": null,
      "outputs": [
        {
          "output_type": "stream",
          "name": "stdout",
          "text": [
            "Enter a: 45\n",
            "Enter b: 45\n",
            "90\n"
          ]
        }
      ]
    },
    {
      "cell_type": "code",
      "source": [
        "# Function without argument with return\n",
        "def school():\n",
        "  a=int(input(\"Enter a: \"))\n",
        "  b=int(input(\"Enter b: \"))\n",
        "  return a+b\n"
      ],
      "metadata": {
        "id": "Xd80k98xH3UF"
      },
      "execution_count": null,
      "outputs": []
    },
    {
      "cell_type": "code",
      "source": [
        "def college():\n",
        "  c=school()\n",
        "  if c%2==0:\n",
        "    print(\"Even\")\n",
        "  else:\n",
        "    print(\"Odd\")\n",
        "\n",
        "college()"
      ],
      "metadata": {
        "colab": {
          "base_uri": "https://localhost:8080/"
        },
        "id": "1wr45izpIcnL",
        "outputId": "a1ffb1ab-b996-4e56-aa5e-33945be4e086"
      },
      "execution_count": null,
      "outputs": [
        {
          "output_type": "stream",
          "name": "stdout",
          "text": [
            "Enter a: 45\n",
            "Enter b: 56\n",
            "Odd\n"
          ]
        }
      ]
    },
    {
      "cell_type": "code",
      "source": [
        "# Function without argument with return\n",
        "def school():\n",
        "  a=int(input(\"Enter a: \"))\n",
        "  b=int(input(\"Enter b: \"))\n",
        "  return a,b\n",
        "def college():\n",
        "  c,d=school()\n",
        "  if c%2==0:\n",
        "    print(c,\"is Even\")\n",
        "  elif d%2==0:\n",
        "    print(d,\"is even\")\n",
        "  else:\n",
        "    print(\"Odd\")\n",
        "\n",
        "college()"
      ],
      "metadata": {
        "colab": {
          "base_uri": "https://localhost:8080/"
        },
        "id": "trZZzRURIzvZ",
        "outputId": "38e15bc3-61d4-4f8d-de9a-63c0ef3685d8"
      },
      "execution_count": null,
      "outputs": [
        {
          "output_type": "stream",
          "name": "stdout",
          "text": [
            "Enter a: 56\n",
            "Enter b: 89\n",
            "56 is Even\n"
          ]
        }
      ]
    },
    {
      "cell_type": "code",
      "source": [
        "# function with argument with return\n",
        "def person1(a,b):\n",
        "  return a+b\n",
        "\n",
        "def add1():\n",
        "  f=person1(a,b)\n",
        "  print(f)"
      ],
      "metadata": {
        "id": "UMBNGI5MI09U"
      },
      "execution_count": null,
      "outputs": []
    },
    {
      "cell_type": "code",
      "source": [
        "person1(23,23)\n",
        "add1()"
      ],
      "metadata": {
        "colab": {
          "base_uri": "https://localhost:8080/"
        },
        "id": "godOkTYpLDNL",
        "outputId": "ac84a21c-e7c5-4ffc-8953-c978d0c815f3"
      },
      "execution_count": null,
      "outputs": [
        {
          "output_type": "stream",
          "name": "stdout",
          "text": [
            "90\n"
          ]
        }
      ]
    },
    {
      "cell_type": "code",
      "source": [
        "def login():\n",
        "    user=input(\"Enter username: \")\n",
        "    passw=input(\"Enter password: \")\n",
        "    return user,passw\n"
      ],
      "metadata": {
        "id": "Fl6g0_TvLF7s"
      },
      "execution_count": null,
      "outputs": []
    },
    {
      "cell_type": "code",
      "source": [
        "def new():\n",
        "    username,password=login()\n",
        "    if username==\"Siya\" and password==1234:\n",
        "      print('Welcome....')\n",
        "    else:\n",
        "        print('Please Enter valid username or password')"
      ],
      "metadata": {
        "id": "_jBB8zkySFYq"
      },
      "execution_count": null,
      "outputs": []
    },
    {
      "cell_type": "code",
      "source": [
        "new()"
      ],
      "metadata": {
        "colab": {
          "base_uri": "https://localhost:8080/"
        },
        "id": "1cYXvcz_SRDQ",
        "outputId": "91e3d58d-5550-44e1-97c2-f1ffe5307c22"
      },
      "execution_count": null,
      "outputs": [
        {
          "output_type": "stream",
          "name": "stdout",
          "text": [
            "Enter username: Siya\n",
            "Enter password: 1234\n",
            "Please Enter valid username or password\n"
          ]
        }
      ]
    },
    {
      "cell_type": "code",
      "source": [],
      "metadata": {
        "id": "MtGKPTcuScKm"
      },
      "execution_count": null,
      "outputs": []
    },
    {
      "cell_type": "code",
      "source": [
        "# function\n",
        "def course_func(name, course_name):\n",
        "    print(\"Hello\", name, \"Welcome to RacksonsIT\")\n",
        "    print(\"Your course name is\", course_name)\n",
        "\n",
        "# call function\n",
        "course_func('Siya', 'Data Science')"
      ],
      "metadata": {
        "colab": {
          "base_uri": "https://localhost:8080/"
        },
        "id": "9pH7tiZKiXsY",
        "outputId": "9f9a7044-3ed9-45a0-96b7-522b563e5dac"
      },
      "execution_count": null,
      "outputs": [
        {
          "output_type": "stream",
          "name": "stdout",
          "text": [
            "Hello Siya Welcome to RacksonsIT\n",
            "Your course name is Data Science\n"
          ]
        }
      ]
    },
    {
      "cell_type": "code",
      "source": [
        "def arithmetic(num1, num2):\n",
        "    add = num1 + num2\n",
        "    sub = num1 - num2\n",
        "    multiply = num1 * num2\n",
        "    division = num1 / num2\n",
        "    # return four values\n",
        "    return add, sub, multiply, division\n",
        "\n",
        "# read four return values in four variables\n",
        "a, b, c, d = arithmetic(10, 2)\n",
        "\n",
        "print(\"Addition: \", a)\n",
        "print(\"Subtraction: \", b)\n",
        "print(\"Multiplication: \", c)\n",
        "print(\"Division: \", d)"
      ],
      "metadata": {
        "colab": {
          "base_uri": "https://localhost:8080/"
        },
        "id": "0CfsPe85nidx",
        "outputId": "b1e230ca-0192-4fd1-c0ce-cfb8fd945edd"
      },
      "execution_count": null,
      "outputs": [
        {
          "output_type": "stream",
          "name": "stdout",
          "text": [
            "Addition:  12\n",
            "Subtraction:  8\n",
            "Multiplication:  20\n",
            "Division:  5.0\n"
          ]
        }
      ]
    },
    {
      "cell_type": "code",
      "source": [],
      "metadata": {
        "id": "t75mBKviueAJ"
      },
      "execution_count": null,
      "outputs": []
    }
  ]
}