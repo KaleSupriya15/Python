{
 "cells": [
  {
   "cell_type": "code",
   "execution_count": 3,
   "id": "b7359110",
   "metadata": {},
   "outputs": [
    {
     "data": {
      "text/plain": [
       "'here only 50.00 dollars'"
      ]
     },
     "execution_count": 3,
     "metadata": {},
     "output_type": "execute_result"
    }
   ],
   "source": [
    "txt=\"here only {price:.2f} dollars\"\n",
    "txt.format(price=50)"
   ]
  },
  {
   "cell_type": "code",
   "execution_count": 4,
   "id": "a935f467",
   "metadata": {},
   "outputs": [
    {
     "name": "stdout",
     "output_type": "stream",
     "text": [
      "GeeksforGeeks is a portal for Geeks.\n"
     ]
    }
   ],
   "source": [
    "# Python3 program introducing f-string\n",
    "val = 'Geeks'\n",
    "print(f\"{val}for{val} is a portal for {val}.\")"
   ]
  },
  {
   "cell_type": "code",
   "execution_count": 5,
   "id": "2221c5f7",
   "metadata": {},
   "outputs": [
    {
     "name": "stdout",
     "output_type": "stream",
     "text": [
      "Hello, My name is Tushar and I'm 23 years old.\n"
     ]
    }
   ],
   "source": [
    "name = 'Tushar'\n",
    "age = 23\n",
    "print(f\"Hello, My name is {name} and I'm {age} years old.\")"
   ]
  },
  {
   "cell_type": "code",
   "execution_count": 8,
   "id": "30bc8e43",
   "metadata": {},
   "outputs": [
    {
     "name": "stdout",
     "output_type": "stream",
     "text": [
      "I am from\n"
     ]
    }
   ],
   "source": [
    "country=\"India\"\n",
    "print(\"I am from\".format(country))"
   ]
  },
  {
   "cell_type": "code",
   "execution_count": 9,
   "id": "3271c554",
   "metadata": {},
   "outputs": [
    {
     "name": "stdout",
     "output_type": "stream",
     "text": [
      "GeeksforGeeks, is a computer science portal for geeks\n"
     ]
    }
   ],
   "source": [
    "# Multiple placeholders in format() function\n",
    "my_string = \"{}, is a {} science portal for {}\"\n",
    "print(my_string.format(\"GeeksforGeeks\", \"computer\", \"geeks\"))\n",
    " "
   ]
  },
  {
   "cell_type": "code",
   "execution_count": 10,
   "id": "9226aee2",
   "metadata": {},
   "outputs": [
    {
     "name": "stdout",
     "output_type": "stream",
     "text": [
      "Hi ! My name is User and I am 19 years old\n"
     ]
    }
   ],
   "source": [
    "# different datatypes can be used in formatting\n",
    "print(\"Hi ! My name is {} and I am {} years old\"\n",
    "      .format(\"User\", 19))\n",
    " "
   ]
  },
  {
   "cell_type": "code",
   "execution_count": 11,
   "id": "fb3247c1",
   "metadata": {},
   "outputs": [
    {
     "name": "stdout",
     "output_type": "stream",
     "text": [
      "This is one two three four\n"
     ]
    }
   ],
   "source": [
    "# The values passed as parameters\n",
    "# are replaced in order of their entry\n",
    "print(\"This is {} {} {} {}\"\n",
    "      .format(\"one\", \"two\", \"three\", \"four\"))"
   ]
  },
  {
   "cell_type": "markdown",
   "id": "6c44759b",
   "metadata": {},
   "source": [
    "## Docstrings"
   ]
  },
  {
   "cell_type": "code",
   "execution_count": 12,
   "id": "2deef360",
   "metadata": {},
   "outputs": [],
   "source": [
    "def square_fun(n):\n",
    "    '''take the number , return the square of n'''\n",
    "    print(n**2)"
   ]
  },
  {
   "cell_type": "code",
   "execution_count": 13,
   "id": "795436f3",
   "metadata": {},
   "outputs": [
    {
     "name": "stdout",
     "output_type": "stream",
     "text": [
      "25\n"
     ]
    }
   ],
   "source": [
    "square_fun(5)"
   ]
  },
  {
   "cell_type": "code",
   "execution_count": 16,
   "id": "a2580cbe",
   "metadata": {},
   "outputs": [
    {
     "data": {
      "text/plain": [
       "'take the number , return the square of n'"
      ]
     },
     "execution_count": 16,
     "metadata": {},
     "output_type": "execute_result"
    }
   ],
   "source": [
    "square_fun.__doc__"
   ]
  },
  {
   "cell_type": "code",
   "execution_count": null,
   "id": "cd7e4ccd",
   "metadata": {},
   "outputs": [],
   "source": []
  }
 ],
 "metadata": {
  "kernelspec": {
   "display_name": "Python 3 (ipykernel)",
   "language": "python",
   "name": "python3"
  },
  "language_info": {
   "codemirror_mode": {
    "name": "ipython",
    "version": 3
   },
   "file_extension": ".py",
   "mimetype": "text/x-python",
   "name": "python",
   "nbconvert_exporter": "python",
   "pygments_lexer": "ipython3",
   "version": "3.9.13"
  }
 },
 "nbformat": 4,
 "nbformat_minor": 5
}
