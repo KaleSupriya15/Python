{
  "nbformat": 4,
  "nbformat_minor": 0,
  "metadata": {
    "colab": {
      "provenance": [],
      "collapsed_sections": [],
      "mount_file_id": "1R5G4SzCdofZdU9pL8HsU7vI-0l3wh8A0",
      "authorship_tag": "ABX9TyO4llwgwbG3Jf4XsDTqe4JD"
    },
    "kernelspec": {
      "name": "python3",
      "display_name": "Python 3"
    },
    "language_info": {
      "name": "python"
    }
  },
  "cells": [
    {
      "cell_type": "code",
      "execution_count": null,
      "metadata": {
        "colab": {
          "base_uri": "https://localhost:8080/"
        },
        "id": "rctkuwLlRq_j",
        "outputId": "6fb053a3-00a3-4407-c481-d822c610b4b4"
      },
      "outputs": [
        {
          "output_type": "stream",
          "name": "stdout",
          "text": [
            "Artificial Intelligence\n",
            "Artificial Intelligence\n",
            "Artificial Intelligence\n"
          ]
        }
      ],
      "source": [
        "for i in range(3):\n",
        "  print(\"Artificial Intelligence\")"
      ]
    },
    {
      "cell_type": "code",
      "source": [
        "a=\"Data\"\n",
        "for i in range(len(a)):\n",
        "  print(\"Good\")"
      ],
      "metadata": {
        "colab": {
          "base_uri": "https://localhost:8080/"
        },
        "id": "CGRH_4O9cTdr",
        "outputId": "fa28468b-5f99-465e-b5eb-cf387c0c455e"
      },
      "execution_count": null,
      "outputs": [
        {
          "output_type": "stream",
          "name": "stdout",
          "text": [
            "Good\n",
            "Good\n",
            "Good\n",
            "Good\n"
          ]
        }
      ]
    },
    {
      "cell_type": "code",
      "source": [
        "A='Data Science'\n",
        "for i in A:\n",
        "  print(\"Good Luck\")\n"
      ],
      "metadata": {
        "colab": {
          "base_uri": "https://localhost:8080/"
        },
        "id": "3LdUjXDWdzlg",
        "outputId": "35ba91d2-ebf3-48e0-f42f-ceedaa13c086"
      },
      "execution_count": null,
      "outputs": [
        {
          "output_type": "stream",
          "name": "stdout",
          "text": [
            "Good Luck\n",
            "Good Luck\n",
            "Good Luck\n",
            "Good Luck\n",
            "Good Luck\n",
            "Good Luck\n",
            "Good Luck\n",
            "Good Luck\n",
            "Good Luck\n",
            "Good Luck\n",
            "Good Luck\n",
            "Good Luck\n"
          ]
        }
      ]
    },
    {
      "cell_type": "code",
      "source": [
        "m= float(input(\"Enter marks: \"))\n",
        "if m>=0 and m<35:\n",
        "  print(\"Fail...\")\n",
        "elif m>=35 and m<60:\n",
        "  print(\"pass....\")\n",
        "elif m>=60 and m<75:\n",
        "  print(\"First class...\")\n",
        "elif m>=75 and m<=100:\n",
        "  print(\"With Distinction...\")\n",
        "else:\n",
        "  print(\"Please enter correct marks....\") \n"
      ],
      "metadata": {
        "colab": {
          "base_uri": "https://localhost:8080/"
        },
        "id": "RwW_oKXxen3Q",
        "outputId": "4270dd80-e72b-4788-90eb-19b4b85e3b90"
      },
      "execution_count": null,
      "outputs": [
        {
          "output_type": "stream",
          "name": "stdout",
          "text": [
            "Enter marks: 89\n",
            "With Distinction...\n"
          ]
        }
      ]
    },
    {
      "cell_type": "code",
      "source": [
        "for i in range(3):\n",
        "  m= float(input(\"Enter marks: \"))\n",
        "  if m>=0 and m<35:\n",
        "    print(\"Fail...\")\n",
        "  elif m>=35 and m<60:\n",
        "    print(\"pass....\")\n",
        "  elif m>=60 and m<75:\n",
        "    print(\"First class...\")\n",
        "  elif m>=75 and m<=100:\n",
        "    print(\"With Distinction...\")\n",
        "  else:\n",
        "    print(\"Please enter correct marks....\") \n"
      ],
      "metadata": {
        "colab": {
          "base_uri": "https://localhost:8080/"
        },
        "id": "XtKLPyLrfh48",
        "outputId": "4ebd90be-eaa5-4f72-a342-ad3b50db9448"
      },
      "execution_count": null,
      "outputs": [
        {
          "output_type": "stream",
          "name": "stdout",
          "text": [
            "Enter marks: 56\n",
            "pass....\n",
            "Enter marks: 88\n",
            "With Distinction...\n",
            "Enter marks: 908\n",
            "Please enter correct marks....\n"
          ]
        }
      ]
    },
    {
      "cell_type": "code",
      "source": [
        "# Marks of 3 students and each student have 5 subject marks\n",
        "l=['riya','siya','ritu']\n",
        "for x in l:\n",
        "  print( )\n",
        "  print(\"Enter\",x,\"'s marks: \")\n",
        " \n",
        "  for i in range(5):\n",
        "    m= float(input(\"Enter marks: \"))\n",
        "    if m>=0 and m<35:\n",
        "      print(\"Fail...\")\n",
        "    elif m>=35 and m<60:\n",
        "      print(\"pass....\")\n",
        "    elif m>=60 and m<75:\n",
        "      print(\"First class...\")\n",
        "    elif m>=75 and m<=100:\n",
        "      print(\"With Distinction...\")\n",
        "    else:\n",
        "      print(\"Please enter correct marks....\") \n"
      ],
      "metadata": {
        "colab": {
          "base_uri": "https://localhost:8080/"
        },
        "id": "NtzNj_6Wftdu",
        "outputId": "282d0286-81d5-4407-e5f7-cc0b652b450e"
      },
      "execution_count": null,
      "outputs": [
        {
          "output_type": "stream",
          "name": "stdout",
          "text": [
            "\n",
            "Enter riya 's marks: \n",
            "Enter marks: 90\n",
            "With Distinction...\n",
            "Enter marks: 4\n",
            "Fail...\n",
            "Enter marks: 34\n",
            "Fail...\n",
            "Enter marks: 45\n",
            "pass....\n",
            "Enter marks: 56\n",
            "pass....\n",
            "\n",
            "Enter siya 's marks: \n",
            "Enter marks: 78\n",
            "With Distinction...\n",
            "Enter marks: 34\n",
            "Fail...\n",
            "Enter marks: 45\n",
            "pass....\n",
            "Enter marks: 56\n",
            "pass....\n",
            "Enter marks: 77\n",
            "With Distinction...\n",
            "\n",
            "Enter ritu 's marks: \n",
            "Enter marks: 88\n",
            "With Distinction...\n",
            "Enter marks: 76\n",
            "With Distinction...\n",
            "Enter marks: 5\n",
            "Fail...\n",
            "Enter marks: 67\n",
            "First class...\n",
            "Enter marks: 677\n",
            "Please enter correct marks....\n"
          ]
        }
      ]
    },
    {
      "cell_type": "code",
      "source": [
        "#  Marks of students and each student have 5 subject marks\n",
        "l=[]\n",
        "marks=[]\n",
        "n=int(input(\"Enter n: \"))\n",
        "for x in range(n):\n",
        "  print( )\n",
        "  name=input(\"Enter name: \")\n",
        "  l.append(name)\n",
        "  print(\"Enter\",l[x],\"'s marks: \")\n",
        "  \n",
        "  for i in range(5):\n",
        "    m= float(input(\"Enter marks: \"))\n",
        "    marks.append(m)\n",
        "    if m>=0 and m<35:\n",
        "      print(\"Fail...\")\n",
        "    elif m>=35 and m<60:\n",
        "      print(\"pass....\")\n",
        "    elif m>=60 and m<75:\n",
        "      print(\"First class...\")\n",
        "    elif m>=75 and m<=100:\n",
        "      print(\"With Distinction...\")\n",
        "    else:\n",
        "      print(\"Please enter correct marks....\") \n",
        "print(l)\n",
        "print(marks)\n"
      ],
      "metadata": {
        "colab": {
          "base_uri": "https://localhost:8080/"
        },
        "id": "BS8ww66hgqeG",
        "outputId": "9cc9e443-7af8-405c-a4dd-0c318ae1abe2"
      },
      "execution_count": null,
      "outputs": [
        {
          "output_type": "stream",
          "name": "stdout",
          "text": [
            "Enter n: 2\n",
            "\n",
            "Enter name: siya\n",
            "Enter siya 's marks: \n",
            "Enter marks: 45\n",
            "pass....\n",
            "Enter marks: 67\n",
            "First class...\n",
            "Enter marks: 89\n",
            "With Distinction...\n",
            "Enter marks: 98\n",
            "With Distinction...\n",
            "Enter marks: 76\n",
            "With Distinction...\n",
            "\n",
            "Enter name: priya\n",
            "Enter priya 's marks: \n",
            "Enter marks: 56\n",
            "pass....\n",
            "Enter marks: 78\n",
            "With Distinction...\n",
            "Enter marks: 90\n",
            "With Distinction...\n",
            "Enter marks: 65\n",
            "First class...\n",
            "Enter marks: 78\n",
            "With Distinction...\n",
            "['siya', 'priya']\n",
            "[45.0, 67.0, 89.0, 98.0, 76.0, 56.0, 78.0, 90.0, 65.0, 78.0]\n"
          ]
        }
      ]
    }
  ]
}