{
 "cells": [
  {
   "cell_type": "markdown",
   "id": "eb32d5e1",
   "metadata": {},
   "source": [
    "### 1. Take a 5-student name with marks and calculate the total and avg. of marks"
   ]
  },
  {
   "cell_type": "code",
   "execution_count": 1,
   "id": "eea6c37b",
   "metadata": {
    "scrolled": true
   },
   "outputs": [
    {
     "name": "stdout",
     "output_type": "stream",
     "text": [
      "Enter name: Priya\n",
      "Enter name: Siya\n",
      "Enter name: Komal\n",
      "Enter name: Sapana\n",
      "Enter name: Rutuja\n",
      "Enter Marks of  Priya\n",
      "My marks are:\n",
      "Enter Marks:67\n",
      "Enter Marks:78\n",
      "Enter Marks:78\n",
      "Enter Marks:78\n",
      "Enter Marks:78\n",
      "Total marks of  Priya :  379\n",
      "Average marks of  Priya :  75.8\n",
      "Enter Marks of  Siya\n",
      "My marks are:\n",
      "Enter Marks:78\n",
      "Enter Marks:89\n",
      "Enter Marks:87\n",
      "Enter Marks:77\n",
      "Enter Marks:88\n",
      "Total marks of  Siya :  419\n",
      "Average marks of  Siya :  83.8\n",
      "Enter Marks of  Komal\n",
      "My marks are:\n",
      "Enter Marks:99\n",
      "Enter Marks:76\n",
      "Enter Marks:89\n",
      "Enter Marks:88\n",
      "Enter Marks:76\n",
      "Total marks of  Komal :  428\n",
      "Average marks of  Komal :  85.6\n",
      "Enter Marks of  Sapana\n",
      "My marks are:\n",
      "Enter Marks:67\n",
      "Enter Marks:78\n",
      "Enter Marks:78\n",
      "Enter Marks:77\n",
      "Enter Marks:78\n",
      "Total marks of  Sapana :  378\n",
      "Average marks of  Sapana :  75.6\n",
      "Enter Marks of  Rutuja\n",
      "My marks are:\n",
      "Enter Marks:78\n",
      "Enter Marks:89\n",
      "Enter Marks:87\n",
      "Enter Marks:77\n",
      "Enter Marks:89\n",
      "Total marks of  Rutuja :  420\n",
      "Average marks of  Rutuja :  84.0\n"
     ]
    }
   ],
   "source": [
    "name=[]\n",
    "marks=[]\n",
    "data=[]\n",
    "for x in range(5):\n",
    "    n=input(\"Enter name: \")\n",
    "    name.append(n)\n",
    "    data.append(\"my name :\")\n",
    "    data.append(n)\n",
    "for y in name:\n",
    "    print(\"Enter Marks of \",y)\n",
    "    print(\"My marks are:\")\n",
    "    for i in range(5):\n",
    "        m=int(input(\"Enter Marks:\"))\n",
    "        marks.append(m)\n",
    "        data.append(m)\n",
    "    total=sum(marks)\n",
    "    data.append(\"My total marks:\")\n",
    "    data.append(total)\n",
    "    print(\"Total marks of \",y,\": \",total)\n",
    "    av=total/len(marks)\n",
    "    print(\"Average marks of \",y,\": \",av)\n",
    "    data.append(\"My Average marks :\")\n",
    "    data.append(av)\n",
    "    marks.clear()\n",
    "    \n",
    "    "
   ]
  },
  {
   "cell_type": "code",
   "execution_count": 2,
   "id": "1af4be81",
   "metadata": {},
   "outputs": [
    {
     "name": "stdout",
     "output_type": "stream",
     "text": [
      "['my name :', 'Priya', 'my name :', 'Siya', 'my name :', 'Komal', 'my name :', 'Sapana', 'my name :', 'Rutuja', 67, 78, 78, 78, 78, 'My total marks:', 379, 'My Average marks :', 75.8, 78, 89, 87, 77, 88, 'My total marks:', 419, 'My Average marks :', 83.8, 99, 76, 89, 88, 76, 'My total marks:', 428, 'My Average marks :', 85.6, 67, 78, 78, 77, 78, 'My total marks:', 378, 'My Average marks :', 75.6, 78, 89, 87, 77, 89, 'My total marks:', 420, 'My Average marks :', 84.0]\n"
     ]
    }
   ],
   "source": [
    "print(data)"
   ]
  },
  {
   "cell_type": "raw",
   "id": "4f072612",
   "metadata": {},
   "source": [
    "2. Take a 10-names and make count the string stored in a list.\n",
    "- Find and show [-4: ]\n",
    "- Remove the -2 position\n",
    "- Add 2 items in 2, 3 position\n",
    "- Pop () using remove the items\n",
    "- How to clear list and show an example\n",
    "- How to delete the list show the example"
   ]
  },
  {
   "cell_type": "code",
   "execution_count": 3,
   "id": "e8927541",
   "metadata": {},
   "outputs": [
    {
     "name": "stdout",
     "output_type": "stream",
     "text": [
      "Enter name:Komal\n",
      "Enter name:Siya\n",
      "Enter name:Seeta\n",
      "Enter name:Sapana\n",
      "Enter name:Madhuri\n",
      "Enter name:MAnali\n",
      "Enter name:Priya\n",
      "Enter name:Arohi\n",
      "Enter name:Shweta\n",
      "Enter name:Sejal\n"
     ]
    }
   ],
   "source": [
    "Name=[]\n",
    "for x in range(10):\n",
    "    n=input(\"Enter name:\")\n",
    "    Name.append(n)\n",
    "    "
   ]
  },
  {
   "cell_type": "code",
   "execution_count": 4,
   "id": "3b96e6fe",
   "metadata": {},
   "outputs": [
    {
     "name": "stdout",
     "output_type": "stream",
     "text": [
      "['Komal', 'Siya', 'Seeta', 'Sapana', 'Madhuri', 'MAnali', 'Priya', 'Arohi', 'Shweta', 'Sejal']\n"
     ]
    }
   ],
   "source": [
    "print(Name)"
   ]
  },
  {
   "cell_type": "code",
   "execution_count": 5,
   "id": "e7814e90",
   "metadata": {},
   "outputs": [
    {
     "data": {
      "text/plain": [
       "['Priya', 'Arohi', 'Shweta', 'Sejal']"
      ]
     },
     "execution_count": 5,
     "metadata": {},
     "output_type": "execute_result"
    }
   ],
   "source": [
    "Name[-4:]"
   ]
  },
  {
   "cell_type": "code",
   "execution_count": 6,
   "id": "e09b60a4",
   "metadata": {},
   "outputs": [
    {
     "data": {
      "text/plain": [
       "'Shweta'"
      ]
     },
     "execution_count": 6,
     "metadata": {},
     "output_type": "execute_result"
    }
   ],
   "source": [
    "Name.pop(-2)"
   ]
  },
  {
   "cell_type": "code",
   "execution_count": 7,
   "id": "df3d083c",
   "metadata": {},
   "outputs": [
    {
     "name": "stdout",
     "output_type": "stream",
     "text": [
      "['Komal', 'Siya', 'Seeta', 'Sapana', 'Madhuri', 'MAnali', 'Priya', 'Arohi', 'Sejal']\n"
     ]
    }
   ],
   "source": [
    "print(Name)"
   ]
  },
  {
   "cell_type": "code",
   "execution_count": 8,
   "id": "de7169b4",
   "metadata": {},
   "outputs": [],
   "source": [
    "Name.insert(2,\"Shreya\")\n",
    "Name.insert(3,\"Sai\")"
   ]
  },
  {
   "cell_type": "code",
   "execution_count": 9,
   "id": "6ff31b72",
   "metadata": {},
   "outputs": [
    {
     "name": "stdout",
     "output_type": "stream",
     "text": [
      "['Komal', 'Siya', 'Shreya', 'Sai', 'Seeta', 'Sapana', 'Madhuri', 'MAnali', 'Priya', 'Arohi', 'Sejal']\n"
     ]
    }
   ],
   "source": [
    "print(Name)"
   ]
  },
  {
   "cell_type": "code",
   "execution_count": 10,
   "id": "cb74fd00",
   "metadata": {},
   "outputs": [
    {
     "data": {
      "text/plain": [
       "'Sejal'"
      ]
     },
     "execution_count": 10,
     "metadata": {},
     "output_type": "execute_result"
    }
   ],
   "source": [
    "Name.pop()    # remove last items from list"
   ]
  },
  {
   "cell_type": "code",
   "execution_count": 11,
   "id": "c2c1bb8c",
   "metadata": {},
   "outputs": [
    {
     "name": "stdout",
     "output_type": "stream",
     "text": [
      "['Komal', 'Siya', 'Shreya', 'Sai', 'Seeta', 'Sapana', 'Madhuri', 'MAnali', 'Priya', 'Arohi']\n"
     ]
    }
   ],
   "source": [
    "print(Name)"
   ]
  },
  {
   "cell_type": "code",
   "execution_count": 12,
   "id": "822a62b6",
   "metadata": {},
   "outputs": [
    {
     "name": "stdout",
     "output_type": "stream",
     "text": [
      "['Pune', 'Mumbai', 'Nashik', 'Banglore', 'Delhi']\n"
     ]
    }
   ],
   "source": [
    "# using Clear() --> detele items from list and empty list\n",
    "City=['Pune',\"Mumbai\",\"Nashik\",\"Banglore\",\"Delhi\"]\n",
    "print(City)"
   ]
  },
  {
   "cell_type": "code",
   "execution_count": 13,
   "id": "2ee7c715",
   "metadata": {},
   "outputs": [],
   "source": [
    "City.clear()"
   ]
  },
  {
   "cell_type": "code",
   "execution_count": 14,
   "id": "35b882f6",
   "metadata": {},
   "outputs": [
    {
     "name": "stdout",
     "output_type": "stream",
     "text": [
      "[]\n"
     ]
    }
   ],
   "source": [
    "print(City)"
   ]
  },
  {
   "cell_type": "code",
   "execution_count": 15,
   "id": "9ff5ac18",
   "metadata": {},
   "outputs": [
    {
     "name": "stdout",
     "output_type": "stream",
     "text": [
      "['Pune', 'Mumbai', 'Nashik', 'Banglore', 'Delhi']\n"
     ]
    }
   ],
   "source": [
    "# using del() --> delet list \n",
    "City=['Pune',\"Mumbai\",\"Nashik\",\"Banglore\",\"Delhi\"]\n",
    "print(City)"
   ]
  },
  {
   "cell_type": "code",
   "execution_count": 16,
   "id": "d34a4f73",
   "metadata": {},
   "outputs": [],
   "source": [
    "del City"
   ]
  },
  {
   "cell_type": "code",
   "execution_count": 17,
   "id": "32b9acdc",
   "metadata": {},
   "outputs": [
    {
     "ename": "NameError",
     "evalue": "name 'City' is not defined",
     "output_type": "error",
     "traceback": [
      "\u001b[1;31m---------------------------------------------------------------------------\u001b[0m",
      "\u001b[1;31mNameError\u001b[0m                                 Traceback (most recent call last)",
      "\u001b[1;32m~\\AppData\\Local\\Temp\\ipykernel_3464\\2873433310.py\u001b[0m in \u001b[0;36m<module>\u001b[1;34m\u001b[0m\n\u001b[1;32m----> 1\u001b[1;33m \u001b[0mprint\u001b[0m\u001b[1;33m(\u001b[0m\u001b[0mCity\u001b[0m\u001b[1;33m)\u001b[0m\u001b[1;33m\u001b[0m\u001b[1;33m\u001b[0m\u001b[0m\n\u001b[0m",
      "\u001b[1;31mNameError\u001b[0m: name 'City' is not defined"
     ]
    }
   ],
   "source": [
    "print(City)"
   ]
  },
  {
   "cell_type": "raw",
   "id": "e65fe7fe",
   "metadata": {},
   "source": [
    "3.Define a dictionary with 6 keys and values pair and how to add new items in the dictionary\n",
    "and show with an example"
   ]
  },
  {
   "cell_type": "code",
   "execution_count": 18,
   "id": "6368f9e2",
   "metadata": {},
   "outputs": [
    {
     "name": "stdout",
     "output_type": "stream",
     "text": [
      "{'Name': ['Seeta', 'Siya', 'Arohi', 'Komal'], 'Age': [20, 19, 22, 21], 'Educarion': ['BSc', 'MSc', 'PHD', 'Engineer']}\n"
     ]
    }
   ],
   "source": [
    "data={\"Name\":['Seeta',\"Siya\",\"Arohi\",\"Komal\"],\n",
    "     \"Age\":[20,19,22,21],\n",
    "     \"Educarion\":[\"BSc\",\"MSc\",'PHD',\"Engineer\"]}\n",
    "print(data)"
   ]
  },
  {
   "cell_type": "code",
   "execution_count": 19,
   "id": "2413e434",
   "metadata": {},
   "outputs": [],
   "source": [
    "data[\"Passing Year\"]=[\"2020,2022,2021,2022\"]"
   ]
  },
  {
   "cell_type": "code",
   "execution_count": 20,
   "id": "204f40d0",
   "metadata": {},
   "outputs": [
    {
     "name": "stdout",
     "output_type": "stream",
     "text": [
      "{'Name': ['Seeta', 'Siya', 'Arohi', 'Komal'], 'Age': [20, 19, 22, 21], 'Educarion': ['BSc', 'MSc', 'PHD', 'Engineer'], 'Passing Year': ['2020,2022,2021,2022']}\n"
     ]
    }
   ],
   "source": [
    "print(data)"
   ]
  },
  {
   "cell_type": "code",
   "execution_count": 21,
   "id": "79a78665",
   "metadata": {},
   "outputs": [],
   "source": [
    "data.update({\"Percentage\":[88.5,88.3,78.87,84.56],\"Email\":[\"seeta@gmail.com\",\"siya@gmail.com\",'aru@gmail.com','komal12@gmail.com']})"
   ]
  },
  {
   "cell_type": "code",
   "execution_count": 22,
   "id": "874bc412",
   "metadata": {},
   "outputs": [
    {
     "name": "stdout",
     "output_type": "stream",
     "text": [
      "{'Name': ['Seeta', 'Siya', 'Arohi', 'Komal'], 'Age': [20, 19, 22, 21], 'Educarion': ['BSc', 'MSc', 'PHD', 'Engineer'], 'Passing Year': ['2020,2022,2021,2022'], 'Percentage': [88.5, 88.3, 78.87, 84.56], 'Email': ['seeta@gmail.com', 'siya@gmail.com', 'aru@gmail.com', 'komal12@gmail.com']}\n"
     ]
    }
   ],
   "source": [
    "print(data)"
   ]
  },
  {
   "cell_type": "markdown",
   "id": "74a3e5b3",
   "metadata": {},
   "source": [
    "### 4. Perform all arithmetic operations on a function"
   ]
  },
  {
   "cell_type": "code",
   "execution_count": 23,
   "id": "52a8ac92",
   "metadata": {},
   "outputs": [],
   "source": [
    "\n",
    "    \n",
    "def addition(a,b):\n",
    "    A=a+b\n",
    "    print(\"Addition: \",A)\n",
    "def subtraction(a,b):\n",
    "    S=a-b\n",
    "    print(\"Subtraction:\",S)\n",
    "def multiplication(a,b):\n",
    "    m=a*b\n",
    "    print(\"Multiplication:\",m)\n",
    "def division(a,b):\n",
    "    d=a/b\n",
    "    print(\"Division:\",d)"
   ]
  },
  {
   "cell_type": "code",
   "execution_count": 24,
   "id": "fbb945a7",
   "metadata": {},
   "outputs": [
    {
     "name": "stdout",
     "output_type": "stream",
     "text": [
      "Addition:  79\n",
      "Subtraction: -11\n",
      "Multiplication: 3752\n",
      "Division: 0.835820895522388\n"
     ]
    }
   ],
   "source": [
    "\n",
    "addition(34,45)\n",
    "subtraction(56,67)\n",
    "multiplication(56,67)\n",
    "division(56,67)"
   ]
  },
  {
   "cell_type": "code",
   "execution_count": null,
   "id": "fe3f0c9e",
   "metadata": {},
   "outputs": [],
   "source": []
  }
 ],
 "metadata": {
  "kernelspec": {
   "display_name": "Python 3 (ipykernel)",
   "language": "python",
   "name": "python3"
  },
  "language_info": {
   "codemirror_mode": {
    "name": "ipython",
    "version": 3
   },
   "file_extension": ".py",
   "mimetype": "text/x-python",
   "name": "python",
   "nbconvert_exporter": "python",
   "pygments_lexer": "ipython3",
   "version": "3.9.13"
  }
 },
 "nbformat": 4,
 "nbformat_minor": 5
}
