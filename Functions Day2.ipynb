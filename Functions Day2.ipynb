{
 "cells": [
  {
   "cell_type": "code",
   "execution_count": 3,
   "id": "eca6899f",
   "metadata": {},
   "outputs": [
    {
     "name": "stdout",
     "output_type": "stream",
     "text": [
      "c = 7 is larger number\n"
     ]
    }
   ],
   "source": [
    "# Write a Python function to find the maximum of three numbers.\n",
    "def large(a,b,c):\n",
    "    if a>b and a>c:\n",
    "        print(f\"a = {a} is larger number\")\n",
    "    elif b>a and b>c:\n",
    "        print(f\"b = {b} is larger number\")\n",
    "    else:\n",
    "        print(f\"c = {c} is larger number\")\n",
    "large(3,4,7)"
   ]
  },
  {
   "cell_type": "code",
   "execution_count": 4,
   "id": "f1da669c",
   "metadata": {},
   "outputs": [
    {
     "name": "stdout",
     "output_type": "stream",
     "text": [
      "a = 6 is larger number\n"
     ]
    }
   ],
   "source": [
    "large(6,3,5)"
   ]
  },
  {
   "cell_type": "raw",
   "id": "2c942706",
   "metadata": {},
   "source": [
    "Write a Python function to sum all the numbers in a list.\n",
    "Sample List : (8, 2, 3, 0, 7)\n",
    "Expected Output : 20"
   ]
  },
  {
   "cell_type": "code",
   "execution_count": 5,
   "id": "f04723d7",
   "metadata": {},
   "outputs": [],
   "source": [
    "def suml(l):\n",
    "    sum=0\n",
    "    for x in l:\n",
    "        sum+=x\n",
    "    print(\"sum of elements from list is: \",sum)"
   ]
  },
  {
   "cell_type": "code",
   "execution_count": 6,
   "id": "ee24ee54",
   "metadata": {},
   "outputs": [
    {
     "name": "stdout",
     "output_type": "stream",
     "text": [
      "sum of elements from list is:  20\n"
     ]
    }
   ],
   "source": [
    "suml([8,2,3,0,7])"
   ]
  },
  {
   "cell_type": "code",
   "execution_count": 7,
   "id": "68b86f8e",
   "metadata": {},
   "outputs": [],
   "source": [
    "# Write a Python function to multiply all the numbers in a list.\n",
    "def mul(l):\n",
    "    product=1\n",
    "    for x in l:\n",
    "        product*=x\n",
    "    print(\"multiplication of all elements is: \",product)"
   ]
  },
  {
   "cell_type": "code",
   "execution_count": 8,
   "id": "2fad63da",
   "metadata": {},
   "outputs": [
    {
     "name": "stdout",
     "output_type": "stream",
     "text": [
      "multiplication of all elements is:  -336\n"
     ]
    }
   ],
   "source": [
    "mul([8,2,3,-1,7])"
   ]
  },
  {
   "cell_type": "raw",
   "id": "280e22bf",
   "metadata": {},
   "source": [
    "Write a Python program to reverse a string.\n",
    "Sample String : \"1234abcd\"\n",
    "Expected Output : \"dcba4321\""
   ]
  },
  {
   "cell_type": "code",
   "execution_count": 15,
   "id": "fd4fb0f8",
   "metadata": {},
   "outputs": [],
   "source": [
    "def reverse(s):\n",
    "    rs=\"\"\n",
    "    i=len(s)\n",
    "    while i>0:\n",
    "        rs=rs+s[i-1]\n",
    "        i=i-1\n",
    "    return rs\n",
    "\n",
    "    "
   ]
  },
  {
   "cell_type": "code",
   "execution_count": 16,
   "id": "5040ae4c",
   "metadata": {},
   "outputs": [
    {
     "data": {
      "text/plain": [
       "'dcba4321'"
      ]
     },
     "execution_count": 16,
     "metadata": {},
     "output_type": "execute_result"
    }
   ],
   "source": [
    "reverse('1234abcd')"
   ]
  },
  {
   "cell_type": "code",
   "execution_count": 17,
   "id": "30b58d1b",
   "metadata": {},
   "outputs": [],
   "source": [
    "def reverse1(s):\n",
    "    s1=s[::-1]\n",
    "    return s1"
   ]
  },
  {
   "cell_type": "code",
   "execution_count": 18,
   "id": "55929ac9",
   "metadata": {},
   "outputs": [
    {
     "data": {
      "text/plain": [
       "'dcba4321'"
      ]
     },
     "execution_count": 18,
     "metadata": {},
     "output_type": "execute_result"
    }
   ],
   "source": [
    "reverse1('1234abcd')"
   ]
  },
  {
   "cell_type": "raw",
   "id": "2d5f2124",
   "metadata": {},
   "source": [
    "Write a Python function to calculate the factorial of a number (a non-negative integer). The function accepts the number as an argument."
   ]
  },
  {
   "cell_type": "code",
   "execution_count": 52,
   "id": "8ff27798",
   "metadata": {},
   "outputs": [],
   "source": [
    "def factorial(l):\n",
    "    for x in l:\n",
    "        fact=1\n",
    "        if x==0:\n",
    "            print(\"factorial of 0 is : \",fact)\n",
    "        elif x==1:\n",
    "            print(\"factorial of 1 is : \",fact)\n",
    "        elif x>1:\n",
    "            for i in range(1,x+1):\n",
    "                fact=fact*i\n",
    "            print(f\"factorial of {x} is : \",fact)"
   ]
  },
  {
   "cell_type": "code",
   "execution_count": 54,
   "id": "68b98a9d",
   "metadata": {},
   "outputs": [
    {
     "name": "stdout",
     "output_type": "stream",
     "text": [
      "factorial of 3 is :  6\n",
      "factorial of 5 is :  120\n",
      "factorial of 2 is :  2\n",
      "factorial of 1 is :  1\n",
      "factorial of 0 is :  1\n"
     ]
    }
   ],
   "source": [
    "factorial([3,5,2,1,0])"
   ]
  },
  {
   "cell_type": "code",
   "execution_count": 56,
   "id": "21b5ddfa",
   "metadata": {},
   "outputs": [
    {
     "name": "stdout",
     "output_type": "stream",
     "text": [
      "factorial of 8 is :  40320\n"
     ]
    }
   ],
   "source": [
    "factorial([8])"
   ]
  },
  {
   "cell_type": "code",
   "execution_count": 58,
   "id": "b97fbea2",
   "metadata": {},
   "outputs": [
    {
     "name": "stdout",
     "output_type": "stream",
     "text": [
      "factorial of 5 is :  120\n",
      "factorial of 6 is :  720\n",
      "factorial of 7 is :  5040\n",
      "factorial of 10 is :  3628800\n"
     ]
    }
   ],
   "source": [
    "factorial([5,6,7,10])"
   ]
  },
  {
   "cell_type": "code",
   "execution_count": 69,
   "id": "721cc53d",
   "metadata": {},
   "outputs": [],
   "source": [
    "def factorial(n):\n",
    "    fact=1\n",
    "    if n==0:\n",
    "        print(\"factorial of 0 is : \",fact)\n",
    "    elif n==1:\n",
    "        print(\"factorial of 1 is : \",fact)\n",
    "    elif n>1:\n",
    "        for i in range(1,n+1):\n",
    "            fact=fact*i\n",
    "        print(f\"factorial of {n} is : \",fact)\n",
    "        \n"
   ]
  },
  {
   "cell_type": "code",
   "execution_count": 70,
   "id": "99ede489",
   "metadata": {},
   "outputs": [
    {
     "name": "stdout",
     "output_type": "stream",
     "text": [
      "factorial of 5 is :  120\n"
     ]
    }
   ],
   "source": [
    "factorial(5)"
   ]
  },
  {
   "cell_type": "code",
   "execution_count": 71,
   "id": "b28145fb",
   "metadata": {},
   "outputs": [
    {
     "name": "stdout",
     "output_type": "stream",
     "text": [
      "factorial of 7 is :  5040\n"
     ]
    }
   ],
   "source": [
    "factorial(7)"
   ]
  },
  {
   "cell_type": "code",
   "execution_count": 72,
   "id": "5509d877",
   "metadata": {},
   "outputs": [
    {
     "name": "stdout",
     "output_type": "stream",
     "text": [
      "factorial of 6 is :  720\n"
     ]
    }
   ],
   "source": [
    "factorial(6)"
   ]
  },
  {
   "cell_type": "raw",
   "id": "5c89d7a5",
   "metadata": {},
   "source": [
    "Write a Python function to check whether a number falls within a given range"
   ]
  },
  {
   "cell_type": "code",
   "execution_count": 73,
   "id": "1c07d626",
   "metadata": {},
   "outputs": [],
   "source": [
    "def given_range(n,start,end):\n",
    "    if n in range(start,end+1):\n",
    "        print(\"%s is in range (%s,%s)\"%(n,start,end))\n",
    "    else:\n",
    "        print(\"%s is not in range (%s,%s)\"%(n,start,end))\n",
    "        "
   ]
  },
  {
   "cell_type": "code",
   "execution_count": 74,
   "id": "7a776e50",
   "metadata": {},
   "outputs": [
    {
     "name": "stdout",
     "output_type": "stream",
     "text": [
      "5 is in range (3,9)\n"
     ]
    }
   ],
   "source": [
    "given_range(5,3,9)"
   ]
  },
  {
   "cell_type": "code",
   "execution_count": 75,
   "id": "bfd7bf31",
   "metadata": {},
   "outputs": [
    {
     "name": "stdout",
     "output_type": "stream",
     "text": [
      "15 is not in range (3,9)\n"
     ]
    }
   ],
   "source": [
    "given_range(15,3,9)"
   ]
  },
  {
   "cell_type": "raw",
   "id": "15667a0c",
   "metadata": {},
   "source": [
    "Write a Python function that accepts a string and counts the number of upper and lower case letters\n",
    "Sample String : 'The quick Brow Fox'\n",
    "Expected Output :\n",
    "No. of Upper case characters : 3\n",
    "No. of Lower case Characters : 12"
   ]
  },
  {
   "cell_type": "code",
   "execution_count": 87,
   "id": "764f9955",
   "metadata": {},
   "outputs": [],
   "source": [
    "def string(s):\n",
    "    up=0\n",
    "    low=0\n",
    "    cd={}\n",
    "    for x in s:\n",
    "        if x.isupper():\n",
    "            up+=1\n",
    "            cd[\"upper count\"]=up\n",
    "        elif x.islower():\n",
    "            low+=1\n",
    "            cd[\"lower count\"]=low\n",
    "    print(cd)"
   ]
  },
  {
   "cell_type": "code",
   "execution_count": 88,
   "id": "72d45304",
   "metadata": {},
   "outputs": [
    {
     "name": "stdout",
     "output_type": "stream",
     "text": [
      "{'upper count': 3, 'lower count': 12}\n"
     ]
    }
   ],
   "source": [
    "string('The quick Brow Fox')"
   ]
  },
  {
   "cell_type": "code",
   "execution_count": 89,
   "id": "2b1a1105",
   "metadata": {},
   "outputs": [
    {
     "name": "stdout",
     "output_type": "stream",
     "text": [
      "{'upper count': 4, 'lower count': 8}\n"
     ]
    }
   ],
   "source": [
    "string(\"Be Your Own Way!\")"
   ]
  },
  {
   "cell_type": "raw",
   "id": "684615a8",
   "metadata": {},
   "source": [
    "Write a Python function that takes a list and returns a new list with distinct elements from the first list.\n",
    "Sample List : [1,2,3,3,3,3,4,5]\n",
    "Unique List : [1, 2, 3, 4, 5]"
   ]
  },
  {
   "cell_type": "code",
   "execution_count": 90,
   "id": "f5e72589",
   "metadata": {},
   "outputs": [],
   "source": [
    "def distinct(l):\n",
    "    unique_list=[]\n",
    "    for x in l:\n",
    "        if x not in unique_list:\n",
    "            unique_list.append(x)\n",
    "    print(unique_list)"
   ]
  },
  {
   "cell_type": "code",
   "execution_count": 91,
   "id": "d343bac6",
   "metadata": {},
   "outputs": [
    {
     "name": "stdout",
     "output_type": "stream",
     "text": [
      "[1, 2, 3, 4, 5]\n"
     ]
    }
   ],
   "source": [
    "distinct([1,2,3,3,3,3,4,5])"
   ]
  },
  {
   "cell_type": "code",
   "execution_count": 92,
   "id": "b11e8292",
   "metadata": {},
   "outputs": [
    {
     "name": "stdout",
     "output_type": "stream",
     "text": [
      "[23, 44, 56, 67, 76, 34]\n"
     ]
    }
   ],
   "source": [
    "distinct([23,44,56,44,67,76,67,44,34,44])"
   ]
  },
  {
   "cell_type": "markdown",
   "id": "7c38400c",
   "metadata": {},
   "source": [
    "Write a Python function that takes a number as a parameter and checks whether the number is prime or not."
   ]
  },
  {
   "cell_type": "code",
   "execution_count": 140,
   "id": "924fd23b",
   "metadata": {},
   "outputs": [],
   "source": [
    "def prime(n):\n",
    "    if n==0:\n",
    "        print(f\"{n} is not prime number\")\n",
    "    elif n==1:\n",
    "        print(f\"{n} is not prime number\")\n",
    "    elif n>1:\n",
    "        for i in range(2,n):\n",
    "            if n%i==0:\n",
    "                print(f\"{n} is not prime number\")\n",
    "                break\n",
    "        else:\n",
    "            print(f\"{n} is prime number\")"
   ]
  },
  {
   "cell_type": "code",
   "execution_count": 141,
   "id": "b3ebabd7",
   "metadata": {},
   "outputs": [
    {
     "name": "stdout",
     "output_type": "stream",
     "text": [
      "3 is prime number\n"
     ]
    }
   ],
   "source": [
    "prime(3)"
   ]
  },
  {
   "cell_type": "code",
   "execution_count": 142,
   "id": "db5b9fd4",
   "metadata": {},
   "outputs": [
    {
     "name": "stdout",
     "output_type": "stream",
     "text": [
      "4 is not prime number\n"
     ]
    }
   ],
   "source": [
    "prime(4)"
   ]
  },
  {
   "cell_type": "code",
   "execution_count": 143,
   "id": "6a268293",
   "metadata": {},
   "outputs": [
    {
     "name": "stdout",
     "output_type": "stream",
     "text": [
      "2 is prime number\n"
     ]
    }
   ],
   "source": [
    "prime(2)"
   ]
  },
  {
   "cell_type": "code",
   "execution_count": 144,
   "id": "7d9ee36b",
   "metadata": {},
   "outputs": [
    {
     "name": "stdout",
     "output_type": "stream",
     "text": [
      "10 is not prime number\n"
     ]
    }
   ],
   "source": [
    "prime(10)"
   ]
  },
  {
   "cell_type": "code",
   "execution_count": 145,
   "id": "d99c1f7d",
   "metadata": {},
   "outputs": [
    {
     "name": "stdout",
     "output_type": "stream",
     "text": [
      "11 is prime number\n"
     ]
    }
   ],
   "source": [
    "prime(11)"
   ]
  },
  {
   "cell_type": "code",
   "execution_count": null,
   "id": "168a87ad",
   "metadata": {},
   "outputs": [],
   "source": []
  }
 ],
 "metadata": {
  "kernelspec": {
   "display_name": "Python 3 (ipykernel)",
   "language": "python",
   "name": "python3"
  },
  "language_info": {
   "codemirror_mode": {
    "name": "ipython",
    "version": 3
   },
   "file_extension": ".py",
   "mimetype": "text/x-python",
   "name": "python",
   "nbconvert_exporter": "python",
   "pygments_lexer": "ipython3",
   "version": "3.9.13"
  }
 },
 "nbformat": 4,
 "nbformat_minor": 5
}
