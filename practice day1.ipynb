{
 "cells": [
  {
   "cell_type": "code",
   "execution_count": 1,
   "id": "ec8439bc",
   "metadata": {},
   "outputs": [],
   "source": [
    "# function for pring even number from list\n",
    "def list_fun(x):\n",
    "    for i in x:\n",
    "        if i%2==0:\n",
    "            print(f\"{i} is even\")\n",
    "        else:\n",
    "            print(f\"{i} is odd\")\n",
    "    "
   ]
  },
  {
   "cell_type": "code",
   "execution_count": 2,
   "id": "e6de02a9",
   "metadata": {},
   "outputs": [
    {
     "name": "stdout",
     "output_type": "stream",
     "text": [
      "1 is odd\n",
      "2 is even\n",
      "45 is odd\n",
      "34 is even\n"
     ]
    }
   ],
   "source": [
    "list_fun([1,2,45,34])"
   ]
  },
  {
   "cell_type": "code",
   "execution_count": 3,
   "id": "26ee6e51",
   "metadata": {},
   "outputs": [],
   "source": [
    "# Write a program to create a function that takes two arguments, name and age, and print their value.\n",
    "def fun(name,age):\n",
    "    print(f\"My name is {name}. I am {age} years old\")\n",
    "    "
   ]
  },
  {
   "cell_type": "code",
   "execution_count": 4,
   "id": "6b6d7278",
   "metadata": {},
   "outputs": [
    {
     "name": "stdout",
     "output_type": "stream",
     "text": [
      "My name is Siya. I am 23 years old\n"
     ]
    }
   ],
   "source": [
    "fun(\"Siya\",23)"
   ]
  },
  {
   "cell_type": "code",
   "execution_count": 15,
   "id": "b7ec72ee",
   "metadata": {},
   "outputs": [],
   "source": [
    "# Create a function with variable length of arguments\n",
    "def func(*args):\n",
    "    for i in args:\n",
    "        print(i)\n",
    "    "
   ]
  },
  {
   "cell_type": "code",
   "execution_count": 16,
   "id": "39caf5a3",
   "metadata": {},
   "outputs": [
    {
     "name": "stdout",
     "output_type": "stream",
     "text": [
      "20\n",
      "30\n",
      "40\n"
     ]
    }
   ],
   "source": [
    "func(20,30,40)"
   ]
  },
  {
   "cell_type": "code",
   "execution_count": 17,
   "id": "9e6f410e",
   "metadata": {},
   "outputs": [
    {
     "name": "stdout",
     "output_type": "stream",
     "text": [
      "Siya\n",
      "Seeta\n"
     ]
    }
   ],
   "source": [
    "func(\"Siya\",\"Seeta\")"
   ]
  },
  {
   "cell_type": "code",
   "execution_count": 18,
   "id": "70168cfe",
   "metadata": {},
   "outputs": [],
   "source": [
    "# Return multiple values from a function\n",
    "def calculation(a,b):\n",
    "    addition=a+b\n",
    "    substraction=a-b\n",
    "    multiplication=a*b\n",
    "    division=a/b\n",
    "    return addition, substraction, multiplication, division\n",
    "    "
   ]
  },
  {
   "cell_type": "code",
   "execution_count": 19,
   "id": "d3da46b5",
   "metadata": {},
   "outputs": [
    {
     "data": {
      "text/plain": [
       "(70, -20, 1125, 0.5555555555555556)"
      ]
     },
     "execution_count": 19,
     "metadata": {},
     "output_type": "execute_result"
    }
   ],
   "source": [
    "calculation(25,45)"
   ]
  },
  {
   "cell_type": "code",
   "execution_count": 20,
   "id": "080d7392",
   "metadata": {},
   "outputs": [
    {
     "name": "stdout",
     "output_type": "stream",
     "text": [
      "50 30\n"
     ]
    }
   ],
   "source": [
    "def calculation(a, b):\n",
    "    return a + b, a - b\n",
    "\n",
    "# get result in tuple format\n",
    "# unpack tuple\n",
    "add, sub = calculation(40, 10)\n",
    "print(add, sub)"
   ]
  },
  {
   "cell_type": "code",
   "execution_count": 22,
   "id": "d861ced3",
   "metadata": {},
   "outputs": [],
   "source": [
    "# Create a function with a default argument\n",
    "def average(a,b,c=5):\n",
    "    avg=(a+b+c)/3\n",
    "    print(avg)"
   ]
  },
  {
   "cell_type": "code",
   "execution_count": 23,
   "id": "38536ec5",
   "metadata": {},
   "outputs": [
    {
     "name": "stdout",
     "output_type": "stream",
     "text": [
      "2.6666666666666665\n"
     ]
    }
   ],
   "source": [
    "average(1,2)"
   ]
  },
  {
   "cell_type": "code",
   "execution_count": 24,
   "id": "4fe39cc1",
   "metadata": {},
   "outputs": [
    {
     "name": "stdout",
     "output_type": "stream",
     "text": [
      "2.0\n"
     ]
    }
   ],
   "source": [
    "average(1,2,3)"
   ]
  },
  {
   "cell_type": "code",
   "execution_count": 25,
   "id": "7e0e2507",
   "metadata": {},
   "outputs": [
    {
     "name": "stdout",
     "output_type": "stream",
     "text": [
      "Name: Ben salary: 12000\n",
      "Name: Jessa salary: 9000\n"
     ]
    }
   ],
   "source": [
    "# function with default argument\n",
    "def show_employee(name, salary=9000):\n",
    "    print(\"Name:\", name, \"salary:\", salary)\n",
    "\n",
    "show_employee(\"Ben\", 12000)\n",
    "show_employee(\"Jessa\")"
   ]
  },
  {
   "cell_type": "markdown",
   "id": "b1269724",
   "metadata": {},
   "source": [
    "### Create an inner function to calculate the addition in the following way\n",
    "#### Create an outer function that will accept two parameters, a and b\n",
    "#### Create an inner function inside an outer function that will calculate the addition of a and b\n",
    "#### At last, an outer function will add 5 into addition and return it"
   ]
  },
  {
   "cell_type": "code",
   "execution_count": 35,
   "id": "8ae356eb",
   "metadata": {},
   "outputs": [],
   "source": [
    "def calculation(a,b):\n",
    "    print(\"a: \",a, \"b: \",b)\n",
    "    def add(a,b):\n",
    "        addition=a+b\n",
    "        return addition\n",
    "    addi=add(a, b)\n",
    "    return addi+5\n",
    "        "
   ]
  },
  {
   "cell_type": "code",
   "execution_count": 36,
   "id": "ebc78c1e",
   "metadata": {},
   "outputs": [
    {
     "name": "stdout",
     "output_type": "stream",
     "text": [
      "a:  2 b:  3\n"
     ]
    },
    {
     "data": {
      "text/plain": [
       "10"
      ]
     },
     "execution_count": 36,
     "metadata": {},
     "output_type": "execute_result"
    }
   ],
   "source": [
    "calculation(2,3)"
   ]
  },
  {
   "cell_type": "code",
   "execution_count": 37,
   "id": "a3ec1e95",
   "metadata": {},
   "outputs": [
    {
     "name": "stdout",
     "output_type": "stream",
     "text": [
      "a:  25 b:  5\n"
     ]
    },
    {
     "data": {
      "text/plain": [
       "35"
      ]
     },
     "execution_count": 37,
     "metadata": {},
     "output_type": "execute_result"
    }
   ],
   "source": [
    "calculation(25,5)"
   ]
  },
  {
   "cell_type": "code",
   "execution_count": 38,
   "id": "42663d6a",
   "metadata": {},
   "outputs": [
    {
     "name": "stdout",
     "output_type": "stream",
     "text": [
      "20\n"
     ]
    }
   ],
   "source": [
    "# outer function\n",
    "def outer_fun(a, b):\n",
    "    square = a ** 2\n",
    "\n",
    "    # inner function\n",
    "    def addition(a, b):\n",
    "        return a + b\n",
    "\n",
    "    # call inner function from outer function\n",
    "    add = addition(a, b)\n",
    "    # add 5 to the result\n",
    "    return add + 5\n",
    "\n",
    "result = outer_fun(5, 10)\n",
    "print(result)"
   ]
  },
  {
   "cell_type": "code",
   "execution_count": 39,
   "id": "90093ef0",
   "metadata": {},
   "outputs": [],
   "source": [
    "# Create a recursive function\n",
    "# Write a program to create a recursive function to calculate the sum of numbers from 0 to 10.\n",
    "\n",
    "# A recursive function is a function that calls itself again and again."
   ]
  },
  {
   "cell_type": "code",
   "execution_count": 45,
   "id": "b3d941e0",
   "metadata": {},
   "outputs": [],
   "source": [
    "def add(n):\n",
    "    if n:\n",
    "        return n+add(n-1)\n",
    "    else:\n",
    "        return 0"
   ]
  },
  {
   "cell_type": "code",
   "execution_count": 46,
   "id": "d4397b00",
   "metadata": {},
   "outputs": [
    {
     "data": {
      "text/plain": [
       "55"
      ]
     },
     "execution_count": 46,
     "metadata": {},
     "output_type": "execute_result"
    }
   ],
   "source": [
    "add(10)"
   ]
  },
  {
   "cell_type": "code",
   "execution_count": 47,
   "id": "82359392",
   "metadata": {},
   "outputs": [
    {
     "data": {
      "text/plain": [
       "210"
      ]
     },
     "execution_count": 47,
     "metadata": {},
     "output_type": "execute_result"
    }
   ],
   "source": [
    "add(20)"
   ]
  },
  {
   "cell_type": "code",
   "execution_count": 49,
   "id": "8b92c5a3",
   "metadata": {},
   "outputs": [
    {
     "name": "stdout",
     "output_type": "stream",
     "text": [
      "Amrita 23\n"
     ]
    }
   ],
   "source": [
    "# Assign a different name to function and call it through the new name\n",
    "# Below is the function display_student(name, age). \n",
    "# Assign a new name show_tudent(name, age) to it and call it using the new name.\n",
    "def display_student(name,age):\n",
    "    print(name,age)\n",
    "display_student(\"Amrita\",23)"
   ]
  },
  {
   "cell_type": "code",
   "execution_count": 52,
   "id": "550cf74f",
   "metadata": {},
   "outputs": [
    {
     "name": "stdout",
     "output_type": "stream",
     "text": [
      "Rutuja 24\n"
     ]
    }
   ],
   "source": [
    "show_student=display_student\n",
    "show_student(\"Rutuja\",24)"
   ]
  },
  {
   "cell_type": "code",
   "execution_count": 56,
   "id": "4ea582da",
   "metadata": {},
   "outputs": [],
   "source": [
    "# Generate a Python list of all the even numbers between 4 to 30\n",
    "def even(start, end):\n",
    "    e=[]\n",
    "    for x in range(start, end):\n",
    "        if x%2==0:\n",
    "            e.append(x)\n",
    "    return e\n",
    "            \n",
    "    "
   ]
  },
  {
   "cell_type": "code",
   "execution_count": 57,
   "id": "3a24a37f",
   "metadata": {},
   "outputs": [
    {
     "data": {
      "text/plain": [
       "[4, 6, 8, 10, 12, 14, 16, 18, 20, 22, 24, 26, 28]"
      ]
     },
     "execution_count": 57,
     "metadata": {},
     "output_type": "execute_result"
    }
   ],
   "source": [
    "even(4,30)"
   ]
  },
  {
   "cell_type": "code",
   "execution_count": 58,
   "id": "ca72de4c",
   "metadata": {},
   "outputs": [
    {
     "name": "stdout",
     "output_type": "stream",
     "text": [
      "24\n"
     ]
    }
   ],
   "source": [
    "# Find the largest item from a given list\n",
    "x = [4, 6, 8, 24, 12, 2]\n"
   ]
  },
  {
   "cell_type": "code",
   "execution_count": 7,
   "id": "7f7d021b",
   "metadata": {},
   "outputs": [],
   "source": [
    "def lar(list1):\n",
    "    l=list1[0]\n",
    "    for x in list1:\n",
    "        if x>l:\n",
    "            l=x\n",
    "    print(f\"{l} is lagrest item\")"
   ]
  },
  {
   "cell_type": "code",
   "execution_count": 8,
   "id": "4e506939",
   "metadata": {},
   "outputs": [
    {
     "name": "stdout",
     "output_type": "stream",
     "text": [
      "24 is lagrest item\n"
     ]
    }
   ],
   "source": [
    "lar([4, 6, 8, 24, 12, 2])"
   ]
  },
  {
   "cell_type": "code",
   "execution_count": null,
   "id": "280f4d16",
   "metadata": {},
   "outputs": [],
   "source": []
  }
 ],
 "metadata": {
  "kernelspec": {
   "display_name": "Python 3 (ipykernel)",
   "language": "python",
   "name": "python3"
  },
  "language_info": {
   "codemirror_mode": {
    "name": "ipython",
    "version": 3
   },
   "file_extension": ".py",
   "mimetype": "text/x-python",
   "name": "python",
   "nbconvert_exporter": "python",
   "pygments_lexer": "ipython3",
   "version": "3.9.13"
  }
 },
 "nbformat": 4,
 "nbformat_minor": 5
}
